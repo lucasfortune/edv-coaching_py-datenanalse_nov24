{
 "cells": [
  {
   "cell_type": "markdown",
   "id": "81b0a57b-3795-4020-8463-6aae049ff673",
   "metadata": {},
   "source": [
    "# Python Datenvisualisierung\n",
    "## Matplotlib - Advanced\n",
    "***\n",
    "In diesem Notebook wird behandelt:\n",
    "- Achsenbeschriftung & Legenden\n",
    "- Text, Schriftarten und LaTeX\n",
    "- Konturplots\n",
    "- Polardiagramme\n",
    "***"
   ]
  },
  {
   "cell_type": "markdown",
   "id": "98322c15-d88a-4c94-a87d-514a608d774d",
   "metadata": {},
   "source": [
    "#### Bitte führe diese Zelle aus, bevor du mit der Übung beginnst"
   ]
  },
  {
   "cell_type": "code",
   "execution_count": null,
   "id": "481d60b4-1ba8-4480-aad9-b397da3a1978",
   "metadata": {},
   "outputs": [],
   "source": [
    "%matplotlib inline\n",
    "import matplotlib.pyplot as plt\n",
    "import numpy as np"
   ]
  },
  {
   "cell_type": "markdown",
   "id": "40e87eae-228b-4624-9d96-960811015fe5",
   "metadata": {},
   "source": [
    "## 1. Achsenbeschriftungen und Legende\n",
    "\n",
    " Es gibt drei wichtige Methoden, um die Achsen in einer Grafik anzupassen: <br>\n",
    "\n",
    "- `xlim`: um den Wertebereich der x-Achse zu begrenzen <br>\n",
    "- `xticks`: um die Markierungen auf der Achse zu ändern <br>\n",
    "- `xticklabels`: um die Beschriftungen auf der Achse festzulegen <br>\n",
    "\n",
    " Für die y-Achse gibt es die entsprechenden Methoden: `ylim`, `yticks`, `yticklabels`. <br>\n",
    "\n",
    " Um die festgelegten Werte abzurufen: <br>\n",
    "- `plt.get_xlim` <br>\n",
    "- `plt.get_xticks` <br>\n",
    "- `plt.get_xticklabels` <br>\n",
    "\n",
    " Um diese Werte zu setzen: <br>\n",
    "- `plt.set_xlim([start, ende])` <br>\n",
    "- `plt.get_xticks(meineTicks)` <br>\n",
    "- `plt.get_xticklabels(meineBeschriftungen)` <br>\n",
    "\n",
    " Die Methode **`cumsum`**, angewendet auf ein `numpy`-Array, gibt ein neues Array mit den kumulierten Summen der Spalten zurück. <br>\n",
    "\n",
    "#### 1.1 Aufgaben:\n",
    "> (a) Erstelle eine Figur **`fig`** und eine Grafik **`ax1`** <br>\n",
    ">\n",
    "> (b) Erstelle 3 Wertereihen namens **`s1`**, **`s2`**, **`s3`**, wobei jede die kumulierte Summe von 50 Zufallswerten ist, die mit **`np.random.randn`** erzeugt wurden <br>\n",
    ">\n",
    "> (c) Zeichne die 3 entsprechenden Kurven mit den Farben ('#33CCFF', '#FFCC99', '#FF33CC'), Linienstil '-.' und den Beschriftungen 'Kurve 1', 'Kurve 2', 'Kurve 3' <br>\n",
    ">\n",
    "> (d) Begrenze die Werte der x-Achse auf [0, 21] und der y-Achse auf [-15, 15] mithilfe der Funktionen `ax1.set_xlim` und `ax1.set_ylim` <br>\n",
    ">\n",
    "> (e) Beschrifte die x-Achse mit einem Abstand von zwei zwischen den Markierungen (statt fünf) mithilfe der Funktion `ax1.set_xticks` <br>\n",
    ">\n",
    "> (f) Ändere die Beschriftungen zu **'j + i'** für **i** zwischen 0 und 20 (mit Schrittweite 2) <br>\n",
    ">\n",
    "> (g) Gib der x-Achse den Titel 'Dauer nach Tag j' <br>\n",
    ">\n",
    "> (h) Zeige die Legenden an der besten Stelle im Graph an <br>\n",
    "\n",
    "<div class=\"alert alert-info\">\n",
    "<i class=\"fa fa-info-circle\"></i> &emsp; \n",
    "Denk daran, dass du vor dem Nachschauen der Lösung einen Hinweis in der offiziellen Python-Dokumentation finden kannst, indem du <code style = \"background-color: transparent ; color : inherit\"><b>help(funktionsname)</b></code> in der Konsole eingibst.\n",
    "</div>"
   ]
  },
  {
   "cell_type": "code",
   "execution_count": 1,
   "id": "bb9d0698-4ca8-41a9-a6fa-8ea4bf162c30",
   "metadata": {},
   "outputs": [],
   "source": [
    "# Deine Lösung:\n",
    "\n",
    "\n",
    "\n"
   ]
  },
  {
   "cell_type": "markdown",
   "id": "4524c8dd-891e-4def-bf84-a661c9afc73e",
   "metadata": {
    "jp-MarkdownHeadingCollapsed": true
   },
   "source": [
    "#### Lösung:"
   ]
  },
  {
   "cell_type": "code",
   "execution_count": null,
   "id": "d15c7dd9-2e10-4bb1-a270-3266facc5c6b",
   "metadata": {},
   "outputs": [],
   "source": [
    "fig = plt.figure(figsize=(8,6))\n",
    "ax1 = fig.add_subplot(111)\n",
    "s1 = np.random.randn(30).cumsum()\n",
    "s2 = np.random.randn(30).cumsum()\n",
    "s3 = np.random.randn(30).cumsum()\n",
    "# Wir erstellen die Wertereihen\n",
    "ax1.plot(s1,color='#33CCFF',marker='o',linestyle='-.',label='Kurve 1')\n",
    "ax1.plot(s2,color='#FFCC99',marker='o',linestyle='-.',label='Kurve 2')\n",
    "ax1.plot(s3,color='#FF33CC',marker='o',linestyle='-.',label='Kurve 3')\n",
    "# Wir zeichnen die Kurven\n",
    "ax1.set_xlim([0,21])\n",
    "ax1.set_ylim([-15,15])\n",
    "# Wir begrenzen die Achsen\n",
    "ax1.set_xticks(range(0,21,2))\n",
    "# Wir beschriften die Achse mit Schrittweite zwei (statt fünf)\n",
    "ax1.set_xticklabels([\"j +\" + str(l) for l in range(0,21,2)])\n",
    "# Wir ändern die Beschriftungen\n",
    "ax1.set_xlabel('Dauer nach Tag j')\n",
    "ax1.legend(loc='best')\n",
    "# Wähle die beste Position für die Legende"
   ]
  },
  {
   "cell_type": "markdown",
   "id": "76bcd3f3-b393-4551-b68e-02028ff0d644",
   "metadata": {},
   "source": [
    "## 2. Plot_date\n",
    " `Matplotlib` enthält eine Funktion `plot_date`, die es ermöglicht, Datumsangaben als x- oder y-Werte zu verwenden. <br>\n",
    "\n",
    " Das Modul *datetime* kann Datumsangaben oder Datumssequenzen im folgenden Format erzeugen: (Jahr, Monat, Tag, Stunde, Minuten, Sekunden). <br>\n",
    "\n",
    " Die Funktion `plot_date` nimmt als Argumente eine Sequenz von Datumsangaben, eine Sequenz von Werten gleicher Länge und Parameter wie `linestyle`. Ohne letzteren wird keine Linie zwischen den Markierungen gezeichnet. <br>\n",
    "\n",
    " <span style=\"color:#09b038; text-decoration : underline\"> Beispiel: Verwendung der Funktion **plot_date** </span><br>\n",
    " Der folgende Code <br>\n",
    "```python\n",
    "import datetime as dt\n",
    "fig = plt.figure( figsize = (12, 4))\n",
    "ax1 = fig.add_subplot(111)\n",
    "dates = [dt.datetime(2017,1,17) + dt.timedelta(days=i) for i in range(10)]\n",
    "werte = np.random.rand(len(dates))\n",
    "ax1.plot_date(dates, werte, linestyle='-')\n",
    "```\n",
    " erzeugt: <img src=\"../imgs/dates.png\" style=\"height:200px\"> <br>\n",
    "\n",
    " `Matplotlib` bietet verschiedene Möglichkeiten zur Formatierung der Achsen. Datumsangaben können auch in verschiedenen Formaten dargestellt werden, aber wir werden in dieser Übung nicht auf diese Details eingehen. <br>\n",
    "\n",
    " <span style=\"color:#09b038; text-decoration : underline\"> Beispiel: Verschiedene Datumsformate </span><br>\n",
    " <img src=\"../imgs/dates2.png\" style=\"height:250px\">\n",
    "\n",
    "#### 2.1 Aufgaben:\n",
    "> (a) Erstelle mit dem obigen Code eine Figur der Größe (12, 4), füge einen Graphen hinzu, der am 1. Januar 2016 beginnt und alle 31 Tage bis Dezember 2016 Zufallswerte annimmt. <br>\n",
    "\n",
    "<div class=\"alert alert-success\"> &emsp; \n",
    "Der Befehl <b>dt.timedelta</b> ermöglicht es, einer Datumsangabe eine bestimmte Anzahl von Tagen, Stunden, Sekunden usw. hinzuzufügen\n",
    "</div>\n",
    "\n",
    "<div class=\"alert alert-info\">\n",
    "<i class=\"fa fa-info-circle\"></i> &emsp; \n",
    "Denk daran, dass du vor dem Nachschauen der Lösung immer auf die offizielle Python-Dokumentation zugreifen kannst, indem du <code style = \"background-color: transparent ; color : inherit\"><b>help(funktionsname)</b></code> in der Konsole eingibst.\n",
    "</div>"
   ]
  },
  {
   "cell_type": "code",
   "execution_count": 3,
   "id": "d8bd9f50-f20a-4b95-8d04-de27b34eb077",
   "metadata": {},
   "outputs": [],
   "source": [
    "# Deine Lösung:\n",
    "\n",
    "\n",
    "\n"
   ]
  },
  {
   "cell_type": "markdown",
   "id": "4a4bc090-a43a-4b8f-8c6c-aaee3709e629",
   "metadata": {
    "jp-MarkdownHeadingCollapsed": true
   },
   "source": [
    "#### Lösung:"
   ]
  },
  {
   "cell_type": "code",
   "execution_count": null,
   "id": "097ea1b6-3667-4e41-a52e-5349a82b21fd",
   "metadata": {},
   "outputs": [],
   "source": [
    "import datetime as dt\n",
    "fig = plt.figure( figsize = (12, 4))\n",
    "ax1 = fig.add_subplot(111)\n",
    "dates = [dt.datetime(2016,1,1) + dt.timedelta(days=31*i) for i in range(12)]\n",
    "werte = np.random.rand(len(dates))\n",
    "ax1.plot_date(dates, werte, linestyle='-');"
   ]
  },
  {
   "cell_type": "markdown",
   "id": "7f74b79a-2b19-4563-9383-b12fc22ec522",
   "metadata": {},
   "source": [
    "## 3. Text, Schriftarten und LaTeX\n",
    " `Matplotlib` ermöglicht die vollständige Kontrolle über Texteigenschaften (Schriftart, Größe, Position, Farbe...). Mit `Matplotlib` ist es möglich, mathematische Symbole in jeder Abbildung mithilfe von **LaTeX**-Befehlen anzuzeigen. <br>\n",
    "\n",
    " Einige Textfunktionen wurden bereits früher vorgestellt, aber hier ist eine vollständige Liste der `pyplot`-Funktionen, die zum Einfügen von Text verwendet werden können. Wir stellen sie mit den Objekten '**`fig`**' und '**`ax`**' vor. <br>\n",
    "\n",
    "* `text` <=> `ax.text`: Fügt Text an einer beliebigen Position in '`ax`' ein. <br>\n",
    "\n",
    "* `xlabel` <=> `ax.set_xlabel`: Fügt eine Beschriftung zur x-Achse von '`ax`' hinzu. <br>\n",
    "\n",
    "* `ylabel` <=> `ax.set_ylabel`: Fügt eine Beschriftung zur y-Achse von '`ax`' hinzu. <br>\n",
    "\n",
    "* `title` <=> `ax.set_title`: Fügt einen Titel zu '`ax`' hinzu. <br>\n",
    "\n",
    "* `figtext` <=> `fig.text`: Fügt einen Titel zu '`fig`' hinzu. <br>\n",
    "\n",
    "* `suptitle` <=> `fig.suptitle`: Fügt einen zentrierten Titel zu '`fig`' hinzu. <br>\n",
    "\n",
    "* `annotate` <=> `ax.annotate`: Fügt eine Anmerkung und einen Pfeil zu '`ax`' hinzu. <br>\n",
    "\n",
    " Alle diese Befehle geben ein `Text`-Objekt zurück. Der Text kann durch Übergabe von Argumenten an Funktionen oder durch Verwendung von `matplotlib.artist.setp` oder `plt.setp` personalisiert werden. <br>\n",
    "\n",
    " <span style=\"color:#09b038; text-decoration : underline\"> Beispiel: Textanpassung </span><br>\n",
    "```python\n",
    "t = plt.xlabel('Eine Beschriftung', fontsize=16, color='green')\n",
    "```\n",
    " ist äquivalent zu <br>\n",
    "```python\n",
    "t = plt.xlabel('Eine Beschriftung') \n",
    "setp(t, fontsize=16, color='green')\n",
    "```\n",
    " Die Textschriftart kann mit dem Parameter `family` geändert werden. <br>\n",
    " Es gibt 6 verfügbare Schriftfamilien für die Texte: 'serif', 'sans-serif', 'cursive', 'fantasy' und 'monospace'. <br>\n",
    " Der Schriftstil kann auch mit `fontstyle` geändert werden und kann sein: 'normal', 'italic' oder 'oblique'. <br>\n",
    "\n",
    " Man kann auf die Textobjekte eines Graphen mit Funktionen wie `ax.get_xticklabels` zugreifen, die die Beschriftungen der x-Achsenmarkierungen zurückgibt. <br>\n",
    "\n",
    " Mit Objektparametern ist es möglich, allen Objekten in der gleichen Gruppe die gleichen Eigenschaften zuzuweisen. <br>\n",
    "\n",
    " <span style=\"color:#09b038; text-decoration : underline\"> Beispiel: Gruppenobjekte </span><br>\n",
    "```python\n",
    "for t in ax.get_xticklabels():\n",
    "    t.set_fontsize(5.)\n",
    "```\n",
    " Mit `setp`: <br>\n",
    "```python\n",
    "plt.setp(ax.get_xticklabels(), fontsize=5.)\n",
    "```\n",
    "\n",
    " Die Schriftgröße aller x-Achsenbeschriftungen wurde geändert. <br>\n",
    "\n",
    "#### 3.1 Aufgaben:\n",
    "> (a) Erstelle eine Figur der Größe (6, 6) und einen Graphen. Setze den Titel auf \"Mein Titel\" als Objekt namens **`t`** <br>\n",
    ">\n",
    "> (b) Füge im Graphen den Text 'Hallo' am Punkt `(0.2,0.8)` und 'Hallo2' am Punkt `(0.7, 0.2)` hinzu und gib beide in einer Liste von 'Text'-Objekten namens **'`texts`'** zurück <br>\n",
    ">\n",
    "> (c) Ändere den Titel mit `setp` und setze eine rote Farbe mit einer Schriftgröße von 16 <br>\n",
    ">\n",
    "> (d) Ändere die Texte mit `setp` und setze die Schriftart auf 'serif' in blauer Farbe"
   ]
  },
  {
   "cell_type": "code",
   "execution_count": 4,
   "id": "5acc596e-6ac4-4e0a-9815-887f8c57d7b4",
   "metadata": {},
   "outputs": [],
   "source": [
    "# Deine Lösung:\n",
    "\n",
    "\n",
    "\n"
   ]
  },
  {
   "cell_type": "markdown",
   "id": "390ce846-38c8-42f2-b124-8e9c66f9cf73",
   "metadata": {
    "jp-MarkdownHeadingCollapsed": true
   },
   "source": [
    "#### Lösung:"
   ]
  },
  {
   "cell_type": "code",
   "execution_count": null,
   "id": "7a75e1bf-c7a2-4c20-966f-2593769a9b49",
   "metadata": {},
   "outputs": [],
   "source": [
    "fig = plt.figure(figsize=(3, 3))\n",
    "ax = fig.add_subplot(111)\n",
    "t = ax.set_title('Mein Titel')\n",
    "\n",
    "texts = [ax.text(0.2, 0.8, 'Hallo'), ax.text(0.7, 0.2, 'Hallo2')]\n",
    "# 'Text'-Objekte werden in einer Liste zurückgegeben\n",
    "\n",
    "plt.setp(t, color='red', fontsize=16)\n",
    "\n",
    "plt.setp(texts, family='serif', color='blue');\n",
    "\n",
    "# Der Befehl 'setp' kann Parameter aller \n",
    "# Elemente in der Liste 'texts' setzen"
   ]
  },
  {
   "cell_type": "markdown",
   "id": "f04a5d77-4c1c-497e-bdc6-82510ed6c93f",
   "metadata": {},
   "source": [
    "#### \n",
    "Matplotlib ermöglicht die Anzeige von Text im **LaTeX**-Format. Du musst dem String ein 'r' voranstellen, ihn mit dem Symbol '\\$' umschließen und die Funktionen und mathematischen Symbole verwenden, die [hier](https://oeis.org/wiki/List_of_LaTeX_mathematical_symbols) verfügbar sind. <br>\n",
    "\n",
    " <span style=\"color:#09b038; text-decoration : underline\"> Beispiel: Text im **LaTeX**-Format </span><br>\n",
    "\n",
    "```python\n",
    "fig = plt.figure()\n",
    "ax = fig.add_subplot(111)\n",
    "ax.text(0.1, 0.5, r\"$ f(x,y) = x^2 + 3 \\times \\cos(y) $\", fontsize=22)\n",
    "```\n",
    "\n",
    " zeigt den folgenden Graph: <br>\n",
    " <img src=\"../imgs/tex.png\" style=\"height:250px\"> <br>\n",
    "\n",
    " Verwende die vorherigen Übungen und die [Dokumentation](https://oeis.org/wiki/List_of_LaTeX_mathematical_symbols) zu $\\LaTeX$-Symbolen, um das folgende Bild zu reproduzieren: <img src='./imgs/Exotext.png'> <br>\n",
    "\n",
    "> (e) Zeichne in einem Graphen die Funktionen und Asymptoten im Intervall [0, 5] <br>\n",
    ">\n",
    "> (f) Zeige die vier lokalen Minima (Funktionswerte für $x = 3/4 +k, k \\in [0,4]$) mit Rautensymbolen ('D') <br>\n",
    ">\n",
    "> (g) Füge den Text 'Lokale Minima' zum Punkt `(3, -0.5)` hinzu <br>\n",
    ">\n",
    "> (h) Füge Titel hinzu und zeige die Legende"
   ]
  },
  {
   "cell_type": "code",
   "execution_count": 5,
   "id": "c23586c7-4f8c-40a9-8271-b1e3db620ecc",
   "metadata": {},
   "outputs": [],
   "source": [
    "# Deine Lösung:\n",
    "\n",
    "\n",
    "\n"
   ]
  },
  {
   "cell_type": "markdown",
   "id": "71500c16-1260-422f-88e3-66fc9d0a387d",
   "metadata": {
    "jp-MarkdownHeadingCollapsed": true
   },
   "source": [
    "#### Lösung:"
   ]
  },
  {
   "cell_type": "code",
   "execution_count": null,
   "id": "a6fd4af9-0b8c-4d09-aa63-17db08d825ed",
   "metadata": {},
   "outputs": [],
   "source": [
    "x = np.arange(0., 5., .01)\n",
    "# Wir erzeugen eine Sequenz für die x-Achse\n",
    "\n",
    "y = np.sin(2*np.pi*x) * np.exp(-x)\n",
    "# Funktion zum Anzeigen\n",
    "\n",
    "fig = plt.figure()\n",
    "ax = fig.add_subplot(111)\n",
    "# Wir erstellen Figur und Graph\n",
    "\n",
    "ax.plot(x, y, label='$\\sin(2\\pi x)\\exp(-x)$')\n",
    "ax.plot(x, np.exp(-x), label='$\\exp(-x)$')\n",
    "ax.plot(x, -np.exp(-x), label='$-\\exp(-x)$')\n",
    "# Wir zeichnen die Funktion und ihre Asymptoten. Dann beschriften wir sie.\n",
    "\n",
    "p = [3/4 + k for k in range(4)]\n",
    "# Wir berechnen die 4 lokalen Minima\n",
    "\n",
    "ax.plot(p, [-np.exp(-k) for k in p], 'Dc')\n",
    "# Wir zeichnen die lokalen Minimapunkte\n",
    "\n",
    "ax.text(3, -0.5, 'Lokale Minima', color='c')\n",
    "# Wir fügen den Text 'Lokale Minima' hinzu\n",
    "\n",
    "ax.set_title('$\\sin(2\\pi x)\\exp(-x)$ und die 2 Asymptoten $\\pm\\exp(-x)$')\n",
    "# Wir fügen den Titel mit einigen LaTeX-Teilen hinzu\n",
    "\n",
    "ax.legend();\n",
    "# Wir fügen die Legende hinzu"
   ]
  },
  {
   "cell_type": "markdown",
   "id": "92fec995-4a23-4d37-95eb-3bcf7780bfaa",
   "metadata": {},
   "source": [
    "## 4. Konturplots\n",
    "\n",
    " Die Funktion `plt.contour` ermöglicht die Darstellung von Konturplots. <br>\n",
    " Im Fall einer Funktion mit zwei Variablen nennen wir sie auch Höhenlinien oder Isolinien. Auf einer solchen Linie ist der Funktionswert konstant. <br>\n",
    " Mathematisch gesehen stellt eine Konturlinie f(x, y) = L für verschiedene konstante Werte von L dar. <br>\n",
    "\n",
    " Um Konturlinien zu zeichnen, werden zwei Zahlensequenzen **x** und **y** mit den Größen **m** bzw. **n** instantiiert, die Koordinatenvektoren darstellen. Dann muss ein zweidimensionales Gitter erstellt werden, das die Koordinatenmatrizen aus der Kombination von **x** und **y** speichert. Dies geschieht mit der Funktion **`np.meshgrid`**, die zwei Arrays **X** und **Y** der Größe **n x m** zurückgibt. <br>\n",
    "\n",
    " Dann können standardmäßige arithmetische Operationen auf diesen Matrizen durchgeführt werden, um eine Oberfläche **Z** zu erstellen, die die Werte der zu zeichnenden Funktion enthält. <br>\n",
    "\n",
    " Der Befehl `plt.contour(X,Y,Z)` zeichnet Konturlinien unter Verwendung von X und Y als Koordinaten. Es ist möglich, die Anzahl der zu zeichnenden Linien oder sogar die Werte der Linien anzugeben. <br>\n",
    "\n",
    " <span style=\"color:#09b038; text-decoration : underline\"> Beispiel: Konturkurven </span><br>\n",
    "```python\n",
    "x = np.arange(-1,1,0.05)\n",
    "y = np.arange(-2, 2, 0.05)\n",
    "X,Y = np.meshgrid(x,y)\n",
    "Z = Y**2 - X**2\n",
    "plt.contour(X,Y,Z)\n",
    "```\n",
    "\n",
    " erzeugt die folgende Ausgabe: <br>\n",
    "\n",
    "<img src='../imgs/cont1.png' style='height:250px'> <br>\n",
    "\n",
    " Es ist auch möglich, den Wert der Linien im Graph mithilfe von **`plt.clabel`** anzuzeigen. <br>\n",
    "\n",
    "#### 4.1 Aufgaben:\n",
    "> (a) Erstelle zwei Sequenzen **x** und **y** mit Werten zwischen [-2;2] und einer Schrittweite von 0,01 <br>\n",
    ">\n",
    "> (b) Erstelle Koordinatenmatrizen **X** und **Y** mit der Funktion **`np.meshgrid`** <br>\n",
    ">\n",
    "> (c) Erstelle Matrix $Z = X*X/9 + Y*Y/4 - 1$ <br>\n",
    ">\n",
    "> (d) Erstelle die Konturlinien von **`Z`** unter dem Namen **`cs`** <br>\n",
    ">\n",
    "> (e) Zeige die Werte von **`cs`** im Graph mithilfe der Funktion **`clabel`** an "
   ]
  },
  {
   "cell_type": "code",
   "execution_count": 6,
   "id": "1c5299f8-941e-48fd-8879-318cc8f1676d",
   "metadata": {},
   "outputs": [],
   "source": [
    "# Deine Lösung:\n",
    "\n",
    "\n",
    "\n"
   ]
  },
  {
   "cell_type": "markdown",
   "id": "446068a5-6e28-47e4-81d3-054c70501392",
   "metadata": {
    "jp-MarkdownHeadingCollapsed": true
   },
   "source": [
    "#### Lösung:"
   ]
  },
  {
   "cell_type": "code",
   "execution_count": null,
   "id": "c1f8d320-3157-49df-b0a0-b19ff8728be9",
   "metadata": {},
   "outputs": [],
   "source": [
    "x = np.arange(-2, 2, 0.01)\n",
    "y = np.arange(-2, 2, 0.01)\n",
    "X, Y = np.meshgrid(x, y)\n",
    "Z = X*X/9 + Y*Y/4 - 1\n",
    "cs = plt.contour(X,Y,Z)\n",
    "plt.clabel(cs);"
   ]
  },
  {
   "cell_type": "markdown",
   "id": "e40095d0-88d8-414f-bd4b-d74fd003128e",
   "metadata": {},
   "source": [
    "#### \n",
    "> (f) Erstelle zwei Sequenzen **`x`** und **`y`**, die jeweils 50 Werte **zwischen -2$\\pi$ und 2$\\pi$** bzw. 50 Werte **zwischen 0 und 4$\\pi$** mit der Funktion **`np.linspace`** enthalten <br>\n",
    ">\n",
    "> (g) Erstelle die Koordinatenmatrizen **`X`** und **`Y`** mit der Funktion **`np.meshgrid`** <br>\n",
    ">\n",
    "> (h) Erstelle Matrix **$Z = \\sin{X}+ \\cos{Y}$** <br>\n",
    ">\n",
    "> (i) Zeige 10 Konturlinien von **`Z`** an <br>\n",
    ">\n",
    "> (j) Füge den Titel 'Konturplot' hinzu <br>\n",
    ">\n",
    "> (k) Füge die Beschriftungen '`x`' und '`y`' zu den Achsen hinzu "
   ]
  },
  {
   "cell_type": "code",
   "execution_count": 7,
   "id": "f93bb362-670c-47fe-9cd5-e84172ec2e75",
   "metadata": {},
   "outputs": [],
   "source": [
    "# Deine Lösung:\n",
    "\n",
    "\n",
    "\n"
   ]
  },
  {
   "cell_type": "markdown",
   "id": "f591251f-b23a-46ba-b8b8-89f36c2d1990",
   "metadata": {
    "jp-MarkdownHeadingCollapsed": true
   },
   "source": [
    "#### Lösung:"
   ]
  },
  {
   "cell_type": "code",
   "execution_count": null,
   "id": "d911226d-5068-4787-8a7a-4b93f89e951b",
   "metadata": {},
   "outputs": [],
   "source": [
    "x = np.linspace(-2*np.pi,2*np.pi)\n",
    "y = np.linspace(0,4*np.pi)\n",
    "[X,Y] = np.meshgrid(x,y)\n",
    "Z = np.sin(X)+np.cos(Y)\n",
    "cp = plt.contour(X,Y,Z,10)\n",
    "plt.xlabel('x')\n",
    "plt.ylabel('y');"
   ]
  },
  {
   "cell_type": "markdown",
   "id": "61ac6dfb-89bf-4762-b6c7-323851343124",
   "metadata": {},
   "source": [
    "#### \n",
    "Die Methode **`contourf`** funktioniert genauso wie die Methode **`contour`**, ermöglicht aber das Erstellen von farbigen Flächen zwischen den Linien. <br>\n",
    " Jede Farbe repräsentiert einen Wert der Funktion. Die Methode **`plt.colorbar`** ermöglicht das Anzeigen einer Farbleiste mit den entsprechenden Werten. <br>\n",
    "\n",
    "> (l) Erstelle zwei Sequenzen **`x`** und **`y`**, die jeweils 200 Werte **zwischen -1 und 1** bzw. 200 Werte **zwischen -1 und 2** mit **`np.linspace`** enthalten <br>\n",
    ">\n",
    "> (m) Erstelle die Koordinatenmatrizen **`X`** und **`Y`** mit **`np.meshgrid`** <br>\n",
    ">\n",
    "> (n) Erstelle die Ausgabematrix **`Z`**, definiert durch die Rosenbrock-Funktion: **$Z = (1-x)^2+(y-x^2)^2$** <br>\n",
    ">\n",
    "> (o) Zeige den farbigen *Konturplot* von **`Z`** sowie eine Farbleiste an <br>\n",
    ">\n",
    "> (p) Setze den Titel auf **'Rosenbrock-Funktion'** "
   ]
  },
  {
   "cell_type": "code",
   "execution_count": 8,
   "id": "34034747-11b9-4397-9326-87cf66b24a60",
   "metadata": {},
   "outputs": [],
   "source": [
    "# Deine Lösung:\n",
    "\n",
    "\n",
    "\n"
   ]
  },
  {
   "cell_type": "markdown",
   "id": "68fddbc4-7a56-480b-bd37-11fd084e3d42",
   "metadata": {
    "jp-MarkdownHeadingCollapsed": true
   },
   "source": [
    "#### Lösung:"
   ]
  },
  {
   "cell_type": "code",
   "execution_count": null,
   "id": "091f1707-bf85-4135-aaef-0ce0ab6e0b9a",
   "metadata": {},
   "outputs": [],
   "source": [
    "x, y = np.linspace(-1,1,200), np.linspace(-1,2,200)\n",
    "X, Y = np.meshgrid(x,y)\n",
    "Z = (1-X)**2+(Y-X**2)**2\n",
    "plt.contourf(X,Y,Z,20)\n",
    "plt.colorbar()\n",
    "plt.title('Rosenbrock-Funktion');"
   ]
  },
  {
   "cell_type": "markdown",
   "id": "1a039aab-861b-4049-aa3d-ed03810491cf",
   "metadata": {},
   "source": [
    "## 5. Polardiagramme\n",
    "\n",
    " Polardiagramme verwenden ein völlig anderes Koordinatensystem. Bisher haben wir nur kartesische Koordinaten verwendet, bei denen sich zwei orthogonale Achsen im Ursprung schneiden und präzise Richtungen für positive und negative Werte festlegen. Ein Polarsystem ist ein 2D-Koordinatensystem, bei dem die Position eines Punktes durch Radius und Winkel ausgedrückt wird. <br>\n",
    "\n",
    " Dieses System wird verwendet, wenn die Beziehung zwischen zwei Punkten in diesem Koordinatensystem besser ausgedrückt werden kann. <br>\n",
    "\n",
    " Ein Punkt wird durch eine radiale und eine winkelförmige Komponente dargestellt. Die radiale Koordinate, oft als **r** bezeichnet, wird Radius genannt. Sie drückt den Abstand zum Ursprung (dem Pol) aus. Die Winkelkoordinate, bezeichnet als θ, wird Polarwinkel genannt. Sie drückt das Maß des Winkels zwischen dem Punkt und der 0°-Halbgeraden (der Polarachse, ähnlich der x-Achse) in trigonometrischer Richtung (positive Richtung) aus. <br>\n",
    "\n",
    " Die Funktion `polar` von `Matplotlib` zeigt Polardiagramme an. Ihre Parameter sind 2 Listen gleicher Größe, `theta` für die Winkelkoordinaten und `r` für die radialen Koordinaten. Sie ist das Äquivalent zu `plot` für Polardiagramme. <br>\n",
    "\n",
    " <span style=\"color:#09b038; text-decoration : underline\"> Beispiel: Polarkoordinaten </span><br>\n",
    "\n",
    "```python\n",
    "theta = np.arange(0, 2, 1/180)*np.pi \n",
    "plt.polar(3*theta, theta/5)\n",
    "plt.polar(theta, np.cos(4*theta))\n",
    "plt.polar(theta, [1.4]*len(theta)); \n",
    "```\n",
    "\n",
    " erzeugt <br>\n",
    "<img src='../imgs/polplot.png' style='heigth=150px'> <br>\n",
    "\n",
    " Im Beispiel definieren wir **`theta`** als eine Sequenz von 360 äquidistanten Werten zwischen 0 und 2$\\pi$. Die zweite Zeile zeichnet eine Spirale. Darunter zeichnen wir eine **Rosette**. <br>\n",
    "\n",
    " Im Polarkoordinatensystem muss r konstant bleiben (hier gleich 1.4), um einen Kreis zu zeichnen. <br>\n",
    "\n",
    "#### 5.1 Aufgaben:\n",
    "> (a) Erstelle eine Sequenz **`theta`** von 360 äquidistanten Werten zwischen 0 und 2$\\pi$ <br>\n",
    ">\n",
    "> (b) Zeige das Polardiagramm von **`theta`** und $r = 4 * \\cos(12 * \\theta)$"
   ]
  },
  {
   "cell_type": "code",
   "execution_count": 11,
   "id": "55167fd6-3e5f-492a-b0df-534da9f192d9",
   "metadata": {},
   "outputs": [],
   "source": [
    "# Deine Lösung:\n",
    "\n",
    "\n",
    "\n"
   ]
  },
  {
   "cell_type": "markdown",
   "id": "cd8ae9ae-24f0-4fd8-8e28-552ffd77711f",
   "metadata": {
    "jp-MarkdownHeadingCollapsed": true
   },
   "source": [
    "#### Lösung:"
   ]
  },
  {
   "cell_type": "code",
   "execution_count": null,
   "id": "fefc19b8-32f8-4719-abab-a90c6f950cae",
   "metadata": {},
   "outputs": [],
   "source": [
    "theta = np.arange(0, 2, 1./180.)*np.pi \n",
    "plt.polar(theta, 4*np.cos(12*theta));"
   ]
  },
  {
   "cell_type": "markdown",
   "id": "f8913930-eb67-4050-889b-6b084b329c03",
   "metadata": {},
   "source": [
    "#### \n",
    "Zur Kontrolle des Gitters gibt es zwei Funktionen: `rgrid` und `thetagrid`. <br>\n",
    "\n",
    " `rgrids` nimmt als Eingabe: <br>\n",
    "* *radii*: Radiale Abstände zwischen radialen Gitterlinien (konzentrische gepunktete Kreise) <br>\n",
    "* *labels*: Beschriftungen zum Drucken auf dem Gitter <br>\n",
    "* *angle*: Die Winkel, bei denen Beschriftungen gedruckt werden (standardmäßig 22,5°) <br>\n",
    "\n",
    " `thetagrids` nimmt als Eingabe: <br>\n",
    "* *angles*: Wo Beschriftungen gedruckt werden sollen <br>\n",
    "* *labels*: Zu druckende Beschriftungen <br>\n",
    "* *frac*: Radiusanteil der Beschriftungsposition (1 druckt Beschriftungen am Rand, 1,1 druckt Beschriftungen außerhalb des Graphen und 0,9 druckt Beschriftungen innerhalb) <br>\n",
    "\n",
    "> (c) Erstelle eine Sequenz **`theta`** von 360 äquidistanten Werten zwischen 0 und 2$\\pi$ <br>\n",
    ">\n",
    "> (d) Erstelle **r = |sin(5 × theta) - 2 cos(theta)|**, wobei **|.|** den Absolutbetrag darstellt, der mit der Funktion **`np.abs`** berechnet wird <br>\n",
    ">\n",
    "> (e) Zeige das Polardiagramm von **`theta`** und **`r`** <br>\n",
    ">\n",
    "> (f) Zeichne mit der Funktion **`rgrids`** Gitterlinien zwischen den radialen Abständen `0,2` und `3,1` mit einer Schrittweite von `0,7` <br>\n",
    ">\n",
    "> (g) Zeige mit der entsprechenden Funktion für die Winkel Winkelbeschriftungen von `45°` bis `360°` mit einer Schrittweite von `90°`"
   ]
  },
  {
   "cell_type": "code",
   "execution_count": 9,
   "id": "20bc7161-697c-4e2b-9ce0-a29384970a44",
   "metadata": {},
   "outputs": [],
   "source": [
    "# Deine Lösung:\n",
    "\n",
    "\n",
    "\n"
   ]
  },
  {
   "cell_type": "markdown",
   "id": "0f21bd25-f55e-497b-a054-827e2b354f0f",
   "metadata": {
    "jp-MarkdownHeadingCollapsed": true
   },
   "source": [
    "#### Lösung:"
   ]
  },
  {
   "cell_type": "code",
   "execution_count": null,
   "id": "6a4635b3-252b-4bad-a96f-bd89d22ecffb",
   "metadata": {},
   "outputs": [],
   "source": [
    "theta = np.arange(0., 2., 1./180.)*np.pi \n",
    "r = np.abs(np.sin(5*theta) - 2.*np.cos(theta))\n",
    "plt.polar(theta, r)\n",
    "plt.rgrids(np.arange(0.2, 3.1, .7), angle=0)\n",
    "plt.thetagrids(np.arange(45, 360, 90));"
   ]
  },
  {
   "cell_type": "markdown",
   "id": "71ff0b7c-9f97-4188-8a88-ddd272108fcf",
   "metadata": {},
   "source": [
    "#### \n",
    "Ohne die Funktion `polar` zu verwenden, ist es möglich, das Koordinatensystem bei der Erstellung eines Graphen mit dem Argument `projection='polar'` zu ändern. <br>\n",
    " Danach können Kurven, Punkte und andere Graphen mit den üblichen Befehlen darin angezeigt werden. <br>\n",
    "\n",
    " <span style=\"color:#09b038; text-decoration : underline\"> Beispiel: Verwendung des Arguments *projection='polar'* </span><br>\n",
    "\n",
    " Der Code <br>\n",
    "```python\n",
    "ax = plt.subplot(111, projection='polar')\n",
    "plt.plot(theta, r)\n",
    "```\n",
    " zeigt den gleichen Graph wie zuvor: <br>\n",
    "<img src='../imgs/pap.png' style='height:200px'> <br>\n",
    "\n",
    "> (h) Erstelle eine Sequenz **`r`** von 150 Zufallszahlen mit der Funktion **`np.random.rand`**, multipliziert mit **`2`** <br>\n",
    ">\n",
    "> (i) Erstelle eine Sequenz **`theta`** von 150 Zufallszahlen mit der Funktion **`np.random.rand`**, multipliziert mit **2$\\pi$** <br>\n",
    ">\n",
    "> (j) Erstelle eine Sequenz **`sizes`** von 150 Zufallszahlen mit der Funktion **`np.random.rand`**, multipliziert mit **200 $ \\times$ $r^2$** <br>\n",
    ">\n",
    "> (k) Erstelle einen Plot mit der Funktion **`plt.subplot`** und gib die polare Projektion an <br>\n",
    ">\n",
    "> (l) Zeige einen *Streudiagramm* mit den Koordinaten `theta` und `r` und den Parametern `c=theta`, `s=sizes` und `cmap=plt.cm.hsv` (um eine andere *Farbkarte* zu verwenden)"
   ]
  },
  {
   "cell_type": "code",
   "execution_count": 10,
   "id": "18ab36fc-657a-4f9a-a454-bcff81ad8ce6",
   "metadata": {},
   "outputs": [],
   "source": [
    "# Deine Lösung:\n",
    "\n",
    "\n",
    "\n"
   ]
  },
  {
   "cell_type": "markdown",
   "id": "6c421b32-fe2d-43f7-83ea-d5c4dbc533dc",
   "metadata": {
    "jp-MarkdownHeadingCollapsed": true
   },
   "source": [
    "#### Lösung:"
   ]
  },
  {
   "cell_type": "code",
   "execution_count": null,
   "id": "1f0811f5-2412-4a03-b89c-b1990402d3ac",
   "metadata": {},
   "outputs": [],
   "source": [
    "N = 150\n",
    "r = 2 * np.random.rand(N)\n",
    "theta = 2 * np.pi * np.random.rand(N)\n",
    "sizes = 200 * r**2 * np.random.rand(N)\n",
    "\n",
    "ax = plt.subplot(111, projection='polar')\n",
    "# Wir erstellen einen leeren Polargraphen\n",
    "\n",
    "c = plt.scatter(theta, r, c=theta, s=sizes, cmap=plt.cm.hsv)\n",
    "# Wir fügen die Punkte mit verschiedenen Farben und Größen hinzu"
   ]
  }
 ],
 "metadata": {
  "kernelspec": {
   "display_name": "Python 3 (ipykernel)",
   "language": "python",
   "name": "python3"
  },
  "language_info": {
   "codemirror_mode": {
    "name": "ipython",
    "version": 3
   },
   "file_extension": ".py",
   "mimetype": "text/x-python",
   "name": "python",
   "nbconvert_exporter": "python",
   "pygments_lexer": "ipython3",
   "version": "3.10.15"
  }
 },
 "nbformat": 4,
 "nbformat_minor": 5
}

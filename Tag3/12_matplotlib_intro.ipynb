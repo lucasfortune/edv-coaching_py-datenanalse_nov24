{
 "cells": [
  {
   "cell_type": "markdown",
   "id": "95aa5423-b507-4f91-a586-add536e2ec10",
   "metadata": {},
   "source": [
    "# Python Datenvisualisierung 1\n",
    "## Matplotlib\n",
    "***\n",
    "In diesem Notebook wird behandelt:\n",
    "- Erstellen von Liniendiagrammen\n",
    "- Diagramme mit mehreren Linien\n",
    "***"
   ]
  },
  {
   "cell_type": "markdown",
   "id": "bb1a5c1c-5259-4df9-8367-813cb024a098",
   "metadata": {},
   "source": [
    "## Einführung in die Datenvisualisierung mit Matplotlib\n",
    "\n",
    "### Einführung\n",
    "\n",
    " Willkommen zu diesem Kurs über die Grundlagen der *Datenvisualisierung* mit Python mithilfe der bekannten Bibliothek: **Matplotlib**. <br>\n",
    "\n",
    " Matplotlib ist eine leistungsstarke Python-Bibliothek zum Plotten und Visualisieren von Daten. Sie wird verwendet, um alle Arten von Graphen zu erstellen. <br>\n",
    "\n",
    " Mit dem Matplotlib-Untermodul **`pyplot`** ist das Erstellen von Graphen sehr ähnlich wie in Matlab. <br>\n",
    "\n",
    " Matplotlib ist eine sehr umfangreiche Bibliothek, daher können nicht alle Funktionen vorgestellt werden. Dieser Kurs konzentriert sich auf die wichtigsten Funktionen, mit dem Hauptziel, dass du am Ende des Kurses selbstständig mit der Bibliothek arbeiten kannst. <br>\n",
    "\n",
    " Zu Beginn musst du das `matplotlib.pyplot`-Modul mit dem Alias 'plt' importieren. <br>\n",
    "\n",
    " Sobald der Graph erstellt ist, ermöglicht der Befehl `plt.show` die Visualisierung. In einem Jupyter Notebook wird durch das Hinzufügen von `%matplotlib inline` am Anfang der Seite automatisch jede Figur angezeigt, sobald eine Zelle mit einem pyplot-Befehl ausgeführt wird. In den folgenden Übungen werden wir auch die Bibliotheken **numpy** und **pandas** verwenden. <br>\n",
    "\n",
    " Daher wird jedes Notebook die folgende Ausführungszelle als Vorspann haben: <br>"
   ]
  },
  {
   "cell_type": "code",
   "execution_count": null,
   "id": "0526a4c9-e6c7-4ec1-9395-6434f3f59be0",
   "metadata": {},
   "outputs": [],
   "source": [
    "%matplotlib inline\n",
    "import matplotlib.pyplot as plt\n",
    "import numpy as np\n",
    "import pandas as pd"
   ]
  },
  {
   "cell_type": "markdown",
   "id": "97b43ddd-c19a-42b1-a4b5-ebd16fd4278b",
   "metadata": {},
   "source": [
    "## 1. Liniendiagramme erstellen\n",
    "\n",
    " Ein Liniendiagramm ist eine Menge von Punkten mit Koordinaten (x, y), zwischen denen eine Linie gezeichnet wird: Je mehr Punkte verwendet werden, desto glatter sieht der Plot aus. <br>\n",
    "\n",
    " Die **`plot`**-Funktion ermöglicht es dir, Linien zu zeichnen, die Punkte verbinden, deren X- und Y-Koordinaten in Listen oder Arrays bereitgestellt werden. Um einen Graphen mit Werten '`x`' auf der X-Achse und den Werten '`y`' auf der Y-Achse zu zeichnen, schreiben wir: `plt.plot(x,y)`. <br>\n",
    "\n",
    "<div class=\"alert alert-info\">\n",
    "<i class=\"fa fa-info-circle\"></i>\n",
    " Hinweis: X-Achse bezieht sich auf die horizontale Achse und Y-Achse auf die vertikale Achse.\n",
    "</div>\n",
    "\n",
    "#### 1.1 Aufgaben:\n",
    "> (a) Zeichne ein Liniendiagramm mit den X-Koordinaten [0,2,4,6] und Y-Koordinaten [1,4,4,8]. <br>\n"
   ]
  },
  {
   "cell_type": "code",
   "execution_count": null,
   "id": "e5720da8-7200-442d-a2ae-af2b1afde7d1",
   "metadata": {},
   "outputs": [],
   "source": [
    "# Deine Lösung:\n",
    "\n",
    "\n"
   ]
  },
  {
   "cell_type": "markdown",
   "id": "b539dec6-5319-4b0e-af44-37c88bfb0b9e",
   "metadata": {
    "jp-MarkdownHeadingCollapsed": true
   },
   "source": [
    "#### Lösung:"
   ]
  },
  {
   "cell_type": "code",
   "execution_count": null,
   "id": "4fa9ac17-c97e-4ff0-8e20-d70e44012f69",
   "metadata": {},
   "outputs": [],
   "source": [
    "plt.plot([0,2,4,6],[1,4,4,8])"
   ]
  },
  {
   "cell_type": "markdown",
   "id": "e51206f2-40b2-48ce-98a1-efab1576829d",
   "metadata": {},
   "source": [
    "#### \n",
    "<div class=\"alert alert-info\">\n",
    "<i class=\"fa fa-info-circle\"></i>\n",
    "Hinweis: Das Hinzufügen eines '<b>;</b>' zur letzten Zeile jeder Zelle verhindert unerwünschte Ausgaben.\n",
    "</div>\n",
    "\n",
    " Wenn nur eine Liste oder ein Array an die plot-Funktion übergeben wird, geht Matplotlib davon aus, dass es sich um eine Sequenz von Y-Werten handelt und generiert die X-Achsenwerte automatisch. Die X-Achsenwerte werden als Positionen der Y-Werte beginnend bei 0 gesetzt. <br>\n",
    "\n",
    "> (b) Zeichne eine Linie aus der Liste: [1,3,2,4]. <br>"
   ]
  },
  {
   "cell_type": "code",
   "execution_count": 1,
   "id": "86118119-281b-4992-9b26-5f105465c747",
   "metadata": {},
   "outputs": [],
   "source": [
    "# Deine Lösung:\n",
    "\n",
    "\n",
    "\n"
   ]
  },
  {
   "cell_type": "markdown",
   "id": "1b488d2a-9349-47b3-a6c3-3902df354a6e",
   "metadata": {
    "jp-MarkdownHeadingCollapsed": true
   },
   "source": [
    "#### Lösung:"
   ]
  },
  {
   "cell_type": "code",
   "execution_count": null,
   "id": "1454d864-79e6-483b-a10c-7b392f9b6831",
   "metadata": {},
   "outputs": [],
   "source": [
    "x = [0, 0, 1, 1, 0, 0.5, 1]\n",
    "y = [1, 0, 0, 1, 1, 2, 1]\n",
    "plt.plot(x, y)\n",
    "plt.axis([-1, 2, -1, 2]);"
   ]
  },
  {
   "cell_type": "markdown",
   "id": "2424d718-a194-4e5c-b80f-c2986238e82e",
   "metadata": {},
   "source": [
    "#### \n",
    "<div class=\"alert alert-info\">\n",
    "<i class=\"fa fa-info-circle\"></i>\n",
    " Hinweis: Es wurden nur die Y-Werte übergeben, die X-Werte wurden automatisch auf [0,1,2,3] gesetzt.\n",
    "</div>\n",
    "\n",
    " Um Graphen einen Titel hinzuzufügen, verwenden wir die **`title`**-Methode. <br>\n",
    " Um den Achsen Beschriftungen hinzuzufügen, verwenden wir die **`xlabel`** und **`ylabel`**-Methoden. <br>\n",
    "\n",
    "> (c) Zeichne ein Liniendiagramm durch die folgenden Punkte: `(50,1) , (140,2) , (200,4)`. <br>\n",
    ">\n",
    "> (d) Gib der Figur den Titel 'Mein erstes Liniendiagramm'. <br>\n",
    ">\n",
    "> (e) Beschrifte die X- und Y-Achse mit 'X-Achse' und 'Y-Achse'. <br>"
   ]
  },
  {
   "cell_type": "code",
   "execution_count": 2,
   "id": "62f44302-03e0-4192-84f8-3f15c0e4465b",
   "metadata": {},
   "outputs": [],
   "source": [
    "# Deine Lösung:\n",
    "\n",
    "\n",
    "\n"
   ]
  },
  {
   "cell_type": "markdown",
   "id": "341a3f43-92b5-41a0-8029-5d9535bdcb94",
   "metadata": {
    "jp-MarkdownHeadingCollapsed": true
   },
   "source": [
    "#### Lösung:"
   ]
  },
  {
   "cell_type": "code",
   "execution_count": null,
   "id": "432def2a-fce2-4fa9-99de-4ee20a3c87d9",
   "metadata": {},
   "outputs": [],
   "source": [
    "plt.title('Mein erstes Liniendiagramm')\n",
    "plt.plot([50,140,200], [1,2,4])\n",
    "plt.xlabel('X-Achse')\n",
    "plt.ylabel('Y-Achse');"
   ]
  },
  {
   "cell_type": "markdown",
   "id": "18e47056-bf69-4853-8c4b-7fe8a363248d",
   "metadata": {},
   "source": [
    "#### \n",
    " Es ist möglich, die **`axis`**-Methode zu verwenden, um die Achsenlänge zu kontrollieren. Sie wird wie folgt verwendet: `axis([xmin, xmax, ymin, ymax])`. Um die X-Achse oder Y-Achse unabhängig voneinander zu kontrollieren, kann man `xlim([xmin, xmax])` oder `ylim([ymin, ymax])` verwenden. <br>\n",
    "\n",
    "> (f) Zeichne ein Liniendiagramm durch die folgenden Punkte: `(50,1) , (140,2) , (200,4)`. <br>\n",
    ">\n",
    "> (g) Die Grafik soll X-Werte zwischen 80 und 180 und Y-Werte von 1 bis 5 haben. <br>"
   ]
  },
  {
   "cell_type": "code",
   "execution_count": 3,
   "id": "135cba59-ba57-435a-8edf-6c0c7ad17ce9",
   "metadata": {},
   "outputs": [],
   "source": [
    "# Deine Lösung:\n",
    "\n",
    "\n",
    "\n"
   ]
  },
  {
   "cell_type": "markdown",
   "id": "d784d5b0-6343-4c32-af71-cd54d43bfeea",
   "metadata": {
    "jp-MarkdownHeadingCollapsed": true
   },
   "source": [
    "#### Lösung:"
   ]
  },
  {
   "cell_type": "code",
   "execution_count": null,
   "id": "adec1005-14bd-4aa3-b92c-b779444a6185",
   "metadata": {},
   "outputs": [],
   "source": [
    "plt.plot([50,140,200], [1,2,4])\n",
    "plt.axis([80, 180, 1, 5]);\n",
    "\n",
    "# oder:\n",
    "#plt.xlim([80,180]); plt.ylim([1,5])"
   ]
  },
  {
   "cell_type": "markdown",
   "id": "3ed8fe48-2efd-4cb0-a767-b58420413663",
   "metadata": {},
   "source": [
    "#### \n",
    " Die `plot`-Funktion verbindet nur Punkte in der Reihenfolge, in der wir sie angeben. Es ist möglich, mehrere Punkte mit gleichen X-Koordinaten anzugeben, um eine Form zu erstellen. <br>\n",
    "\n",
    "> (h) Erstelle die Listen **`x`** und **`y`** wie folgt: `x = [0, 0, 1, 1, 0, 0.5, 1]` , `y = [1, 0, 0, 1, 1, 2, 1]`. <br>\n",
    ">\n",
    "> (i) Verbinde die Punkte mit der plot-Funktion und setze beide Achsen mit den Grenzen: -1 und 2. <br>"
   ]
  },
  {
   "cell_type": "code",
   "execution_count": 4,
   "id": "95b45370-bf66-4827-bee6-4055c7abc01c",
   "metadata": {},
   "outputs": [],
   "source": [
    "# Deine Lösung:\n",
    "\n",
    "\n",
    "\n"
   ]
  },
  {
   "cell_type": "markdown",
   "id": "6a0ca15e-b329-491c-bf26-d1166efc7512",
   "metadata": {
    "jp-MarkdownHeadingCollapsed": true
   },
   "source": [
    "#### Lösung:"
   ]
  },
  {
   "cell_type": "code",
   "execution_count": null,
   "id": "27eed965-b77b-44c2-8d7a-2e8d04ef11df",
   "metadata": {},
   "outputs": [],
   "source": [
    "x = [0, 0, 1, 1, 0, 0.5, 1]\n",
    "y = [1, 0, 0, 1, 1, 2, 1]\n",
    "plt.plot(x, y)\n",
    "plt.axis([-1, 2, -1, 2]);"
   ]
  },
  {
   "cell_type": "markdown",
   "id": "93fad09b-3b3d-4be8-ab81-874fc0d45c15",
   "metadata": {},
   "source": [
    "#### \n",
    " Die `plot`-Funktion funktioniert auch mit ***Pandas Series***. Beim Arbeiten mit einem *Dataframe* kann man also einfach einige Spalten extrahieren, um Graphen zu erstellen. Zum Beispiel: `plt.plot(mein_df.spalte1, mein_df.spalte2)`. <br>\n",
    "\n",
    " Die Datei './data/sales_data.csv' enthält die monatlichen Verkaufsinformationen einiger Produkte über einen Zeitraum von 3 Jahren. <br>\n",
    "\n",
    "> (j) Lies `'./data/sales_data.csv'` in einen Dataframe ein. <br>\n"
   ]
  },
  {
   "cell_type": "code",
   "execution_count": 5,
   "id": "ab6a1eed-0975-4006-834b-ab55cbe8bc5e",
   "metadata": {},
   "outputs": [],
   "source": [
    "# Deine Lösung:\n",
    "\n",
    "\n"
   ]
  },
  {
   "cell_type": "markdown",
   "id": "e778b396-a8dd-4f0d-94f2-05a83bdda642",
   "metadata": {
    "jp-MarkdownHeadingCollapsed": true
   },
   "source": [
    "#### Lösung:"
   ]
  },
  {
   "cell_type": "code",
   "execution_count": null,
   "id": "299554b1-e08b-4e07-85db-5c8ac413f867",
   "metadata": {},
   "outputs": [],
   "source": [
    "df = pd.read_csv('./data/sales_data.csv')"
   ]
  },
  {
   "cell_type": "markdown",
   "id": "449430da-37af-4d87-9f72-5a02f3b3602d",
   "metadata": {},
   "source": [
    "#### \n",
    "> (k) Erstelle ein Liniendiagramm aus der Anzahl der Verkäufe des ersten Produkts (`'Product1'`) in Abhängigkeit vom (`'Month'`). <br>"
   ]
  },
  {
   "cell_type": "code",
   "execution_count": null,
   "id": "13147580-340b-4304-88c8-03950630e2e0",
   "metadata": {},
   "outputs": [],
   "source": [
    "# Deine Lösung:\n",
    "\n",
    "\n"
   ]
  },
  {
   "cell_type": "markdown",
   "id": "4a497d7c-0f36-43ba-8351-304e9ee1e42b",
   "metadata": {
    "jp-MarkdownHeadingCollapsed": true
   },
   "source": [
    "#### Lösung:"
   ]
  },
  {
   "cell_type": "code",
   "execution_count": null,
   "id": "233abf0b-d8f9-4f38-9120-e4bd54476272",
   "metadata": {},
   "outputs": [],
   "source": [
    "plt.plot(df.Month, df.Product1);"
   ]
  },
  {
   "cell_type": "markdown",
   "id": "078929d8-d5a7-4267-9825-e9a3b8584898",
   "metadata": {},
   "source": [
    "#### \n",
    " Der erhaltene Graph zeigt eine schlecht lesbare X-Achse aufgrund der großen Anzahl von Markierungen im Vergleich zur Bildgröße. <br>\n",
    "\n",
    " Die **pandas**-Bibliothek enthält Plot-Methoden, die im Hintergrund *Matplotlib* verwenden, um Diagramme direkt aus den Spalten eines Dataframes schnell und optimiert zu erstellen. Sie ermöglichen es auch, direkt zusätzliche Parameter wie einen Titel, eine Begrenzung der Achsen oder Legenden hinzuzufügen. Zum Beispiel: `df.plot(x=spalte1, y=spalte2, title=\"Mein Titel\", ylim=[100,700])` reicht aus, um einen vollständigen Graphen zu erstellen. <br>\n",
    "\n",
    "> (l) Verwende die `plot`-Methode von **df**, um die monatlichen Verkaufszahlen mit einem passenden Titel anzuzeigen. <br>"
   ]
  },
  {
   "cell_type": "code",
   "execution_count": null,
   "id": "b248955e-4b8b-46ee-a0d5-9d1d1bfa3251",
   "metadata": {},
   "outputs": [],
   "source": [
    "# Deine Lösung:\n",
    "\n",
    "\n"
   ]
  },
  {
   "cell_type": "markdown",
   "id": "f50fa1b7-7477-496a-b11d-0686596e6bd9",
   "metadata": {
    "jp-MarkdownHeadingCollapsed": true
   },
   "source": [
    "#### Lösung:"
   ]
  },
  {
   "cell_type": "code",
   "execution_count": null,
   "id": "f2e236e3-51f1-4d01-a05f-ce50d5835ff9",
   "metadata": {},
   "outputs": [],
   "source": [
    "df.plot(x='Month', y='Product1', title=\"Verkäufe pro Monat\");"
   ]
  },
  {
   "cell_type": "markdown",
   "id": "a9b4bbea-51be-4852-92fa-6cdf095a6131",
   "metadata": {},
   "source": [
    "## 2. Mehrfache Liniendiagramme, Linienstile und Legenden \n",
    "\n",
    "<hr style=\"border-width:2px;border-color:#75DFC1\">\n",
    "\n",
    " In diesem Notebook werden wir sehen, wie man mehrere Kurven im selben Diagramm zeichnet und die von Matplotlib bereitgestellten Formatierungsoptionen erkundet. <br>\n",
    "\n",
    " Mehrfache Kurven sind besonders nützlich, wenn man verschiedene Datenreihen oder Verteilungen in einem einzigen Diagramm vergleichen möchte, um Unterschiede oder Ähnlichkeiten zwischen diesen Reihen hervorzuheben. <br>\n",
    "\n",
    "<img src=\"../imgs/mult_curves_111.png\" style=\"height:350px\">"
   ]
  },
  {
   "cell_type": "markdown",
   "id": "21bd5e02-cafb-478b-a326-75f1a218dbb0",
   "metadata": {},
   "source": [
    "#### Bitte führe diese Zelle vor Beginn der Übung aus"
   ]
  },
  {
   "cell_type": "code",
   "execution_count": null,
   "id": "0199f777-2837-4878-a838-7199b7538b02",
   "metadata": {},
   "outputs": [],
   "source": [
    "%matplotlib inline\n",
    "import matplotlib.pyplot as plt\n",
    "import numpy as np\n",
    "import pandas as pd"
   ]
  },
  {
   "cell_type": "markdown",
   "id": "c2fcb9b7-c7cd-4f24-bf08-3ed6e50e529e",
   "metadata": {},
   "source": [
    " Um ein Liniendiagramm mit mehreren Linien zu zeichnen, kann man die **`plot`**-Funktion mehrmals aufrufen, wie hier: <br>\n",
    "><code>plt.plot(<span style=\"color:red\">x,y</span>)\n",
    "plt.plot(<span style=\"color:blue\">u,v</span>)\n",
    "plt.plot(<span style=\"color:green\">w,z</span>)</code>\n",
    "\n",
    " oder einfach die folgende Syntax verwenden: <br>\n",
    "><code>plt.plot(<span style=\"color:red\">x,y</span>,<span style=\"color:blue\">u,v</span>,<span style=\"color:green\">w,z</span>)</code>"
   ]
  },
  {
   "cell_type": "markdown",
   "id": "940a86d6-8a29-4686-a490-2f9f6a5a06a8",
   "metadata": {},
   "source": [
    "#### 2.1 Aufgaben:\n",
    "> (a) Erstelle in einer Liste namens **`t`** eine Sequenz von 0 bis 5 mit einer Schrittweite von 0,2 unter Verwendung der **`np.arange`**-Funktion. <br>\n",
    ">\n",
    "> (b) Zeichne im selben Diagramm die Funktionen $t$ , $t^2$ und $t^3$ und setze die Grenzen der y-Achse zwischen 0 und 50. <br>\n",
    "\n",
    "<div class=\"alert alert-info\">\n",
    "<i class=\"fa fa-info-circle\"></i> &emsp; \n",
    "Der Befehl: <b>np.arange(a, b, p)</b> gibt eine 1D-Tabelle mit Zahlen zwischen <b>a</b> und <b>b</b> (b ausgeschlossen) mit einer Schrittweite von p zurück.\n",
    "</div>\n",
    "\n",
    "\n"
   ]
  },
  {
   "cell_type": "code",
   "execution_count": null,
   "id": "13e7ba1c-9a8a-4233-a539-3fb84187dee1",
   "metadata": {},
   "outputs": [],
   "source": [
    "# Deine Lösung:\n",
    "\n",
    "\n",
    "\n"
   ]
  },
  {
   "cell_type": "markdown",
   "id": "f9644b9d-0968-4215-bd7f-492751db17f0",
   "metadata": {
    "jp-MarkdownHeadingCollapsed": true
   },
   "source": [
    "#### Lösung:"
   ]
  },
  {
   "cell_type": "code",
   "execution_count": null,
   "id": "40dea337-409a-4b59-88ca-e1af442e4a1d",
   "metadata": {},
   "outputs": [],
   "source": [
    "t = np.arange(0,5,0.2)\n",
    "\n",
    "plt.plot(t,t,t,t**2,t,t**3)\n",
    "# Wir zeichnen (t,t), (t,t**2) und (t,t**3) in derselben Funktion\n",
    "\n",
    "plt.ylim([0,50]);\n",
    "# Wir setzen die y-Achsengrenzen auf [0,50]"
   ]
  },
  {
   "cell_type": "markdown",
   "id": "6fa13170-996d-4359-91f5-7e95df26f84a",
   "metadata": {},
   "source": [
    "#### \n",
    "Matplotlib bietet auch die Möglichkeit, den Stil der Elemente in den Diagrammen zu ändern, was sehr nützlich sein kann, um sie weiter zu unterscheiden und sogar zusätzliche Bedeutung hinzuzufügen (wie zum Beispiel eine bestimmte Farbe). <br>\n",
    "\n",
    " Für jedes Paar (x,y) gibt es ein drittes optionales Argument, um den Stil und die Farbe der Linie festzulegen. <br>\n",
    "\n",
    " Verfügbare Linienstile sind: <br>\n",
    "\n",
    "  | <p class=\"text-center\">Linienstile</p> | <p class=\"text-center\">Beschreibung</p> |\n",
    "  |:---:|:---:|\n",
    "  | <p class=\"text-center\">'-'</p> | <p class=\"text-center\">durchgehende Linie</p> |\n",
    "  | <p class=\"text-center\">'--'</p> | <p class=\"text-center\">gestrichelte Linie</p> |\n",
    "  | <p class=\"text-center\">':'</p> | <p class=\"text-center\">gepunktete Linie</p> |\n",
    "  | <p class=\"text-center\">'-.'</p> | <p class=\"text-center\">Mischung aus Strichen und Punkten</p> |\n",
    "\n",
    " Verfügbare Farben sind: <br>\n",
    "\n",
    "  | <p class=\"text-center\">Farben</p> | <p class=\"text-center\">Beschreibung</p> |\n",
    "  |:---:|:---:|\n",
    "  | <p class=\"text-center\">'b'</p> | <p class=\"text-center\">blau</p> |\n",
    "  | <p class=\"text-center\">'g'</p> | <p class=\"text-center\">grün</p> |\n",
    "  | <p class=\"text-center\">'r'</p> | <p class=\"text-center\">rot</p> |\n",
    "  | <p class=\"text-center\">'c'</p> | <p class=\"text-center\">cyan</p> |\n",
    "  | <p class=\"text-center\">'m'</p> | <p class=\"text-center\">magenta</p> |\n",
    "  | <p class=\"text-center\">'y'</p> | <p class=\"text-center\">gelb</p> |\n",
    "  | <p class=\"text-center\">'k'</p> | <p class=\"text-center\">schwarz</p> |\n",
    "  | <p class=\"text-center\">'w'</p> | <p class=\"text-center\">weiß</p> |\n",
    "\n",
    " Die Farbe und der Stil können miteinander verbunden werden. Zum Beispiel ist das Standardformat 'b-', was eine blaue durchgehende Linie ist. <br>\n",
    "\n",
    "> (c) Zeichne die drei Linien aus der vorherigen Aufgabe erneut mit den folgenden Stilen: gepunktete rote Linie, durchgehende grüne Linie und gestrichelte blaue Linie. <br>"
   ]
  },
  {
   "cell_type": "code",
   "execution_count": null,
   "id": "2c2264ab-9b5f-4f2e-913d-d4a9a0312a25",
   "metadata": {},
   "outputs": [],
   "source": [
    "# Deine Lösung:\n",
    "\n",
    "\n",
    "\n"
   ]
  },
  {
   "cell_type": "markdown",
   "id": "55162246-994b-47a9-bc4a-f020e7927865",
   "metadata": {
    "jp-MarkdownHeadingCollapsed": true
   },
   "source": [
    "#### Lösung:"
   ]
  },
  {
   "cell_type": "code",
   "execution_count": null,
   "id": "1bf60aa9-0397-430c-af5b-4b029c69ae94",
   "metadata": {},
   "outputs": [],
   "source": [
    "\n",
    "t = np.arange(0,5,0.2)\n",
    "\n",
    "plt.plot(t,t,':r',t,t**2,'-g',t,t**3,'--b')\n",
    "plt.ylim([0,50])\n",
    "\n",
    "plt.show()\n"
   ]
  },
  {
   "cell_type": "markdown",
   "id": "46399e44-19b4-4c97-85c9-4ed220b9ffa4",
   "metadata": {},
   "source": [
    "#### \n",
    "Es ist auch möglich, Markierungen mit Symbolen hinzuzufügen. Man kann sie zu Linien hinzufügen oder sie sogar anstelle der Linien verwenden. Diese Symbole können mit den obigen Farben verkettet werden. <br>\n",
    "\n",
    " Verfügbare Markierungen sind: <br>\n",
    "\n",
    "  | <p class=\"text-center\">Markierung</p> | <p class=\"text-center\">Beschreibung</p> |\n",
    "  |:---:|:---:|\n",
    "  | <p class=\"text-center\">'.'</p> | <p class=\"text-center\">Punktmarkierung</p> |\n",
    "  | <p class=\"text-center\">','</p> | <p class=\"text-center\">Pixelmarkierung</p> |\n",
    "  | <p class=\"text-center\">'o'</p> | <p class=\"text-center\">Kreismarkierung</p> |\n",
    "  | <p class=\"text-center\">'v'</p> | <p class=\"text-center\">Dreieck_unten Markierung</p> |\n",
    "  | <p class=\"text-center\">'^'</p> | <p class=\"text-center\">Dreieck_oben Markierung</p> |\n",
    "  | <p class=\"text-center\">'<'</p> | <p class=\"text-center\">Dreieck_links Markierung</p> |\n",
    "  | <p class=\"text-center\">'>'</p> | <p class=\"text-center\">Dreieck_rechts Markierung</p> |\n",
    "  | <p class=\"text-center\">'s'</p> | <p class=\"text-center\">Quadratmarkierung</p> |\n",
    "  | <p class=\"text-center\">'p'</p> | <p class=\"text-center\">Fünfeckmarkierung</p> |\n",
    "  | <p class=\"text-center\">'*'</p> | <p class=\"text-center\">Sternmarkierung</p> |\n",
    "  | <p class=\"text-center\">'h'</p> | <p class=\"text-center\">Sechseck1 Markierung</p> |\n",
    "  | <p class=\"text-center\">'H'</p> | <p class=\"text-center\">Sechseck2 Markierung</p> |\n",
    "  | <p class=\"text-center\">'+'</p> | <p class=\"text-center\">Plusmarkierung</p> |\n",
    "  | <p class=\"text-center\">'x'</p> | <p class=\"text-center\">x-Markierung</p> |\n",
    "  | <p class=\"text-center\">'D'</p> | <p class=\"text-center\">Rautenmarkierung</p> |\n",
    "  | <p class=\"text-center\">'d'</p> | <p class=\"text-center\">dünne_Rauten Markierung</p> |\n",
    "\n",
    " Man kann den Stil eines Liniendiagramms in **einer Zeichenkette** in dieser Reihenfolge angeben: die Farbe, der Linienstil und die Markierungen. <br>\n",
    " Zum Beispiel: <br>\n",
    " * `\"r-*\"` für eine rote durchgehende Linie mit Sternmarkierungen <br>\n",
    " * `\"y:d\"` für eine gelbe gepunktete Linie mit Rautenmarkierungen, usw. <br>\n",
    "\n",
    " Beim Zeichnen einer Linie ist es auch möglich, ihre Breite anzupassen, dank des *`linewidth`*-Parameters der `plot`-Funktion. <br>\n",
    " So zeigt der Befehl: `plt.plot(x, y, \"r--\", linewidth=5, marker='o')` eine rote gestrichelte Linie mit Breite 5 und Kreismarkierungen an. <br>\n",
    "\n",
    "> (d) Zeichne die letzten 3 Linien erneut, jeweils mit den folgenden Stilen: gelbe Sechseck1-Markierungen, grüne Linie mit Breite 5 und blaue Linie mit Rautenmarkierungen. <br>"
   ]
  },
  {
   "cell_type": "markdown",
   "id": "d9cd5cc0-fd26-4cc5-a76d-6ab3dcb8521e",
   "metadata": {},
   "source": [
    "```python\n",
    "# Deine Lösung:\n",
    "\n",
    "\n",
    "\n",
    "```"
   ]
  },
  {
   "cell_type": "markdown",
   "id": "3092800f-3992-4df4-91da-396ca644d6ec",
   "metadata": {
    "jp-MarkdownHeadingCollapsed": true
   },
   "source": [
    "#### Lösung:"
   ]
  },
  {
   "cell_type": "markdown",
   "id": "eeb5ed04-1823-4043-88d7-b905db782395",
   "metadata": {},
   "source": [
    "t = np.arange(0,5,0.2)\n",
    "\n",
    "plt.plot(t,t,'hy')\n",
    "plt.plot(t,t**2,'g-', linewidth=5)\n",
    "plt.plot(t,t**3,'b', marker='D')\n",
    "plt.ylim([0,50])\n",
    "\n",
    "plt.show()"
   ]
  },
  {
   "cell_type": "markdown",
   "id": "e88adee7-1d32-40bc-909d-627848b0fc38",
   "metadata": {},
   "source": [
    "#### \n",
    "Es ist möglich, ein weiteres sehr wichtiges Element für die Lesbarkeit von Diagrammen hinzuzufügen - Legenden - mit der [legend](https://matplotlib.org/api/pyplot_api.html#matplotlib.pyplot.legend)-Methode, indem man den Kurven Namen im `'label'`-Argument innerhalb des plot-Befehls zuweist. <br>\n",
    "\n",
    " Die Position der Legende kann mit dem Argument `loc` gewählt werden, das `'best'`, `'lower right'`, `'upper center'`, `'center left'` usw. sein kann. <br>\n",
    "\n",
    " Es ist auch möglich, dem Diagramm ein Raster mit `plt.grid(True)` hinzuzufügen. <br>\n",
    "\n",
    "> (e) Zeichne in einem Diagramm mit Raster die folgenden Liniendiagramme: <br>\n",
    ">\n",
    ">    * 1) Die Punkte (50,2), (100,3), (150,7), (200,10) verbunden mit einer blauen Linie der Breite 0,8 und Markierungen '*' mit Label 'Pfad 1'. <br>\n",
    ">    * 2) Die Punkte (50,2), (100,7), (150,9), (200,10) verbunden mit einer blauen Linie der Breite 0,8 und Markierungen '+' mit Label 'Pfad 2'. <br>\n",
    ">\n",
    "> (f) Gib der x-Achse und y-Achse die Beschriftungen \"Geschwindigkeit\" und \"Zeit\". <br>\n",
    ">\n",
    "> (g) Zeige die Legende des Diagramms an. <br>"
   ]
  },
  {
   "cell_type": "markdown",
   "id": "b821e49e-005e-40aa-be6f-26bcf63dd72d",
   "metadata": {},
   "source": [
    "```python\n",
    "# Deine Lösung:\n",
    "\n",
    "\n",
    "\n",
    "```"
   ]
  },
  {
   "cell_type": "markdown",
   "id": "00d43cfe-07fa-4a5a-abbd-f094b22ed2d6",
   "metadata": {
    "jp-MarkdownHeadingCollapsed": true
   },
   "source": [
    "#### Lösung:"
   ]
  },
  {
   "cell_type": "code",
   "execution_count": null,
   "id": "6ce8ae42-46d4-4ee7-b1a1-e2ec2228cea3",
   "metadata": {},
   "outputs": [],
   "source": [
    "plt.grid(True)\n",
    "plt.plot([50,100,150,200], [2,3,7,10], \"b-*\", linewidth=0.8, label=\"Pfad 1\")\n",
    "plt.plot([50,100,150,200], [2,7,9,10], \"g-+\", linewidth=0.8, label=\"Pfad 2\")\n",
    "plt.xlabel('Geschwindigkeit')\n",
    "plt.ylabel('Zeit')\n",
    "plt.legend();"
   ]
  },
  {
   "cell_type": "markdown",
   "id": "dcf8cd99-0bea-4e5a-a18d-9a002a353bf4",
   "metadata": {},
   "source": [
    "#### \n",
    "Mit den eingebauten Methoden der Pandas DataFrames können Sie auch dem Diagramm Stil hinzufügen, indem Sie dieselben Parameternamen verwenden. <br>\n",
    "\n",
    " Es ist auch möglich, mehrere Linien im selben Diagramm anzuzeigen, indem man dem `y`-Parameter eine Liste übergibt. <br>\n",
    "\n",
    " Der `style`-Parameter kann auch eine Liste erhalten, um jeder Linie ihren eigenen Stil zuzuweisen. <br>\n",
    "\n",
    " Beispiel: `mein_df.plot(x=spalte1, y=[spalte2,spalte3], style=[\"r--\", \"c-+\"])` <br>\n",
    "\n",
    "> (h) Lies die Datei `\"./data/sales_data.csv\"`. <br>\n",
    ">\n",
    "> (i) Zeige in einem Diagramm die Liniendiagramme für die Spalten \"Product1\" und \"Product2\" in Abhängigkeit von \"Month\". Füge einen unterschiedlichen Stil für jede Linie sowie den Titel \"Verkäufe pro Monat\" hinzu. <br>\n",
    "\n",
    "```python"
   ]
  },
  {
   "cell_type": "code",
   "execution_count": null,
   "id": "47e89638-a14d-4016-9322-25986ff942ff",
   "metadata": {},
   "outputs": [],
   "source": [
    "# Deine Lösung:\n",
    "\n",
    "\n",
    "\n"
   ]
  },
  {
   "cell_type": "markdown",
   "id": "3a06d7d5-8564-4da4-b64b-1e6eb05b97c1",
   "metadata": {
    "jp-MarkdownHeadingCollapsed": true
   },
   "source": [
    "#### Lösung:"
   ]
  },
  {
   "cell_type": "code",
   "execution_count": null,
   "id": "e9cc325c-96aa-44e7-8c8f-4f05141f8753",
   "metadata": {},
   "outputs": [],
   "source": [
    "df = pd.read_csv(\"./data/sales_data.csv\")\n",
    "\n",
    "df.plot(x='Month', y=['Product1','Product2'], style=[\"m--\", \"c:.\"], title=\"Verkäufe pro Monat\");"
   ]
  },
  {
   "cell_type": "markdown",
   "id": "79c6343f-52e0-4139-a70f-ad8f20249d7a",
   "metadata": {},
   "source": [
    "## Zusammenfassung:\n",
    "\n",
    "- Um Liniendiagramme mit *Matplotlib* zu erstellen, verwenden wir die ```plt.plot()```-Funktion, die sowohl mit einer ```Liste```, einem ```numpy array``` als auch einer ```Pandas Series``` funktioniert. <br>\n",
    "- Ein einzelner Plot-Befehl kann mehrere Linien zeichnen, indem mehrere x,y-Paare übergeben werden: ```plt.plot(x1,y1, x2,y2, x3,y3)```. <br>\n",
    "- Matplotlib bietet vielfältige Formatierungsoptionen für deine Plots: <br>\n",
    "\n",
    "    - Linienstile ```'-', '--', ':', '-.``` für verschiedene Linienarten\n",
    "    - Farben ```'r', 'g', 'b', etc.``` für unterschiedliche Linien\n",
    "    - Marker ```'o', '*', '+', etc.``` für Datenpunkte\n",
    "    - Linienbreite mit ```linewidth``` für die Betonung bestimmter Linien <br>\n",
    "\n",
    "\n",
    "- Für bessere Lesbarkeit deiner Diagramme kannst du verschiedene Elemente hinzufügen: <br>\n",
    "\n",
    "    - Legenden mit ```plt.legend()``` und dem ```label```-Parameter\n",
    "    - Achsenbeschriftungen mit ```xlabel``` und ```ylabel```\n",
    "    - Titel mit ```title````\n",
    "    - Raster mit ```plt.grid(True)````\n",
    "    - Achsengrenzen mit ```xlim```` und ```ylim```` <br>\n",
    "\n",
    "\n",
    "- *Pandas* Dataframes bieten eine vereinfachte Syntax für das Plotten mit Matplotlib im Hintergrund: <br>\n",
    "\n",
    "    - Direktes Plotten mehrerer Spalten mit ```df.plot(x='spalte1', y=['spalte2', 'spalte3'])```\n",
    "    - Einfache Stilanpassung mit dem ```style```-Parameter\n",
    "    - Automatische Legendenerstellung basierend auf Spaltennamen <br>"
   ]
  }
 ],
 "metadata": {
  "kernelspec": {
   "display_name": "Python 3 (ipykernel)",
   "language": "python",
   "name": "python3"
  },
  "language_info": {
   "codemirror_mode": {
    "name": "ipython",
    "version": 3
   },
   "file_extension": ".py",
   "mimetype": "text/x-python",
   "name": "python",
   "nbconvert_exporter": "python",
   "pygments_lexer": "ipython3",
   "version": "3.10.15"
  }
 },
 "nbformat": 4,
 "nbformat_minor": 5
}

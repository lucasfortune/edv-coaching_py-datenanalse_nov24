{
 "cells": [
  {
   "cell_type": "markdown",
   "id": "973172c6-405d-4a63-8f72-7dfecec1c1cc",
   "metadata": {},
   "source": [
    "# Python Datenvisualisierung 3\n",
    "## Matplotlib\n",
    "***\n",
    "In diesem Notebook wird behandelt:\n",
    "- Boxplots\n",
    "- Kreisdiagramme\n",
    "- Subplots\n",
    "***"
   ]
  },
  {
   "cell_type": "markdown",
   "id": "e78542d0-1636-42d9-a0a7-67ac03949f9e",
   "metadata": {},
   "source": [
    "#### Bitte führe diese Zelle aus, bevor du mit der Übung beginnst"
   ]
  },
  {
   "cell_type": "code",
   "execution_count": null,
   "id": "4e42a87a-6026-4f8c-8b2f-4543a523ce84",
   "metadata": {},
   "outputs": [],
   "source": [
    "%matplotlib inline\n",
    "import matplotlib.pyplot as plt\n",
    "import numpy as np\n",
    "import pandas as pd"
   ]
  },
  {
   "cell_type": "markdown",
   "id": "c80d35a2-ae73-4bc1-be51-fa5a4b1ed399",
   "metadata": {},
   "source": [
    "## 1. Boxplots\n",
    "\n",
    "Boxplots sind sehr geschätzte und häufig verwendete Diagramme, besonders für die deskriptive Analyse kontinuierlicher Daten. <br>\n",
    "\n",
    "Die Funktion **`plt.boxplot`** ermöglicht es dir, Boxplots in einem Diagramm darzustellen. <br>\n",
    "\n",
    "Sie nimmt als Argument eine oder mehrere in einer Liste zusammengefasste Wertesequenzen. <br>\n",
    "\n",
    "Die Box zeigt die Grenzen des ersten und letzten Quartils, der rote Balken in der Mitte zeigt den Median. Die Whisker gehen bis zum extremsten Wert innerhalb der Grenze von 1,5-mal der Boxhöhe. <br>\n",
    "\n",
    "Die Punkte jenseits der Whisker werden durch + dargestellt, sie sind *Ausreißer*. <br>\n",
    "\n",
    "<span style=\"color:#09b038; text-decoration : underline\">Beispiel:</span>\n",
    "```python\n",
    "plt.boxplot([[1, 2, 3, 4, 5],[7, 5, 8, 4, 9, 5, 7]])\n",
    "```\n",
    "zeigt den folgenden Graph:\n",
    "<img src=\"../imgs/boxp.png\" style=\"height:250px\">\n",
    "\n",
    "#### 1.1 Aufgaben:\n",
    "> (a) Lies die Datei `'sales_data.csv'` ein. <br>\n",
    ">\n",
    "> (b) Stelle den Boxplot aus den Verkaufsreihen von Produkt 1 und Produkt 2 dar. <br>\n",
    ">\n",
    "> (c) Gib dem Graph einen Titel."
   ]
  },
  {
   "cell_type": "code",
   "execution_count": 1,
   "id": "9c09907b-dccb-4a55-88e2-9b61219c753a",
   "metadata": {},
   "outputs": [],
   "source": [
    "# Deine Lösung:\n",
    "\n",
    "\n"
   ]
  },
  {
   "cell_type": "markdown",
   "id": "03698dcd-86af-4bcf-ae92-ec4afae5661c",
   "metadata": {
    "jp-MarkdownHeadingCollapsed": true
   },
   "source": [
    "#### Lösung:"
   ]
  },
  {
   "cell_type": "code",
   "execution_count": null,
   "id": "e2277c06-4c8e-4d3a-8b82-4f8599c626e6",
   "metadata": {},
   "outputs": [],
   "source": [
    "df = pd.read_csv('sales_data.csv')\n",
    "plt.boxplot([df.Produkt1, df.Produkt2])\n",
    "plt.title('Boxplots von Produkt 1 und 2')"
   ]
  },
  {
   "cell_type": "markdown",
   "id": "6248da26-8ce9-4241-9103-6bcb49f5f8b6",
   "metadata": {},
   "source": [
    "#### \n",
    "In der deskriptiven Statistik ist es oft notwendig, komplexere Boxplots zu erstellen, die zum Beispiel von einer qualitativen Variable abhängen. <br>\n",
    "\n",
    "> (d) Erstelle eine neue Variable \"Monate\", die nur den Monat aus der Spalte \"Monat\" behält. Dafür musst du für jedes Element von 'Monat' vom 4. bis zum letzten Zeichen der Zeichenkette extrahieren. <br>\n",
    ">\n",
    "> (e) Erstelle eine leere Liste **`l`**. <br>\n",
    ">\n",
    "> (f) Füge in einer Schleife über alle Monate des Jahres nacheinander die Umsatzreihen zu **`l`** hinzu, die für jeden der 12 Monate extrahiert wurden. <br>\n",
    ">\n",
    "> (g) Stelle den Boxplot der in **`l`** enthaltenen Reihen dar (ein Boxplot für jeden Monat). <br>\n",
    ">\n",
    "> (h) Füge die Monate als Beschriftung der x-Achse hinzu."
   ]
  },
  {
   "cell_type": "code",
   "execution_count": 2,
   "id": "ec8dc2d0-0ab5-4522-b295-d5b2c32bd4a0",
   "metadata": {},
   "outputs": [],
   "source": [
    "# Deine Lösung:\n",
    "\n",
    "\n",
    "\n"
   ]
  },
  {
   "cell_type": "markdown",
   "id": "c955d355-ff5e-4513-83e8-208a226eb8f0",
   "metadata": {
    "jp-MarkdownHeadingCollapsed": true
   },
   "source": [
    "#### Lösung:"
   ]
  },
  {
   "cell_type": "code",
   "execution_count": null,
   "id": "4f26a2b7-6adb-4093-9dfb-188046145b2c",
   "metadata": {},
   "outputs": [],
   "source": [
    "df['Monate'] = df.Monat.apply(lambda x : x[3:])\n",
    "\n",
    "l = list()\n",
    "for i in df.Monate.unique():\n",
    "    l.append(df[df['Monate'] == i]['Umsatz'])\n",
    "plt.boxplot(l)\n",
    "plt.xticks(range(1,13), df.Monate.unique())\n",
    "plt.show()\n",
    "```"
   ]
  },
  {
   "cell_type": "markdown",
   "id": "92b88272-1b3c-4dc2-88e0-72a40720f5f1",
   "metadata": {},
   "source": [
    "#### \n",
    "Die `boxplot()` Methode von Pandas DataFrames ermöglicht es, Boxplots für jede im Parameter `column` angegebene Spalte oder für alle Spalten anzuzeigen. <br>\n",
    "Der Parameter `by` ist am interessantesten, er ermöglicht es, einen Boxplot für jede Modalität einer qualitativen Variable anzuzeigen. <br>\n",
    "\n",
    "Gut zu wissen: Der Parameter `figsize` ermöglicht es dir, die Abmessungen der Figur zu ändern, die den Graph enthält. <br>\n",
    "\n",
    "> (i) Erstelle mit der `boxplot()` Methode den vorherigen Graph in einer Figur der Größe (7,7) nach."
   ]
  },
  {
   "cell_type": "code",
   "execution_count": 3,
   "id": "78b7ef68-7edd-48cd-a9fe-48bee6165c8f",
   "metadata": {},
   "outputs": [],
   "source": [
    "# Deine Lösung:\n",
    "\n",
    "\n",
    "\n"
   ]
  },
  {
   "cell_type": "markdown",
   "id": "d6847076-d236-455a-8623-eb2e655a0d3c",
   "metadata": {
    "jp-MarkdownHeadingCollapsed": true
   },
   "source": [
    "#### Lösung:"
   ]
  },
  {
   "cell_type": "code",
   "execution_count": null,
   "id": "b94cb122-ebb4-4303-a1fd-24831aee95a4",
   "metadata": {},
   "outputs": [],
   "source": [
    "df.boxplot(column='Umsatz', by='Monate', figsize=(7,7))"
   ]
  },
  {
   "cell_type": "markdown",
   "id": "7255a45d-fdb5-43dc-b86e-38dd25aaa727",
   "metadata": {},
   "source": [
    "## <i class=\"fas fa-chart-pie\"></i> 2. Kreisdiagramme\n",
    "\n",
    "Kreisdiagramme sind in Sektoren (*Wedges*) unterteilte Diagramme. Dies ist eine effektive Möglichkeit, Informationen darzustellen, wenn man hauptsächlich daran interessiert ist, einen Sektor mit dem gesamten Kreisdiagramm zu vergleichen und nicht mit einem anderen Sektor. <br>\n",
    "\n",
    "Die Funktion **`pie`** ermöglicht es dir, Kreisdiagramme aus einer Sequenz **`X`** zu erstellen. <br>\n",
    "Jedes Element **$x_{i}$** von **`X`** wird durch einen proportionalen Anteil von **$x_{i}$/sum(X)** dargestellt. <br>\n",
    "\n",
    "Wenn die Summe der Elemente von **`X`** kleiner als 1 ist, wird das Kreisdiagramm direkt mit den Werten von **`X`** dargestellt, es erfolgt keine Normalisierung und es bleibt ein leerer Raum. <br>\n",
    "\n",
    "<div class=\"alert alert-success\">\n",
    "<i class=\"fa fa-question-circle\"></i> &emsp; \n",
    "Kreisdiagramme werden am besten dargestellt, wenn die Figur vergrößert und <b>quadratisch</b> ist. <br>\n",
    "Bei Verwendung einer <b>pyplot</b> Funktion wird automatisch eine Figur im Standardformat erstellt. <br>\n",
    "Die Figur kann mit dem Befehl <b>plt.figure(figsize=(h,l))</b> in den Dimensionen <b>(h,l)</b> erstellt werden.\n",
    "</div>\n",
    "\n",
    "<div class=\"alert alert-info\">\n",
    "<i class=\"fa fa-info-circle\"></i> &emsp;\n",
    "Füge zu <b>plt.pie</b> das Argument <b>labels</b> hinzu, um den verschiedenen Teilen des Kreisdiagramms Namen zu geben.\n",
    "</div>\n",
    "\n",
    "#### 2.2 Aufgaben:\n",
    "> (a) Erstelle eine Figur mit den Dimensionen `(6, 6)`. <br>\n",
    ">\n",
    "> (b) Erstelle eine Liste **`x`** mit den Zahlen `[1, 2, 3, 4, 10]`. <br>\n",
    ">\n",
    "> (c) Stelle ein Kreisdiagramm aus **`x`** dar und gib ihm die Beschriftungen `['A','B','C','D','E']`. <br>\n",
    ">\n",
    "> (d) Zeige Legenden im Graph an."
   ]
  },
  {
   "cell_type": "code",
   "execution_count": 4,
   "id": "7ccbae00-3cac-4300-b875-c5e40aeaa861",
   "metadata": {},
   "outputs": [],
   "source": [
    "# Deine Lösung:\n",
    "\n",
    "\n",
    "\n"
   ]
  },
  {
   "cell_type": "markdown",
   "id": "a0e6bc10-3b30-4143-8ce5-508494b94e87",
   "metadata": {
    "jp-MarkdownHeadingCollapsed": true
   },
   "source": [
    "#### Lösung:"
   ]
  },
  {
   "cell_type": "code",
   "execution_count": null,
   "id": "b85f6d8d-1862-423e-b7fe-0c8e86722ca7",
   "metadata": {},
   "outputs": [],
   "source": [
    "plt.figure(figsize=(6, 6))\n",
    "x = [1, 2, 3, 4, 10]\n",
    "plt.pie(x, labels=['A', 'B', 'C', 'D', 'E'])\n",
    "plt.legend()"
   ]
  },
  {
   "cell_type": "markdown",
   "id": "ad46df33-93e9-42cf-ae58-30ab931fad6a",
   "metadata": {},
   "source": [
    "Viele Parameter ermöglichen die Anpassung deines Kreisdiagramms. <br>\n",
    "\n",
    "  |  <p class=\"text-center\">Parameter</p> | <p class=\"text-center\">Beschreibung</p> |\n",
    "  |:---:|:---:|\n",
    "  |  <p class=\"text-center\">`explode`</p> | <p class=\"text-center\">Liste der gleichen Größe wie die Datensequenz, ermöglicht es, einen oder mehrere Teile vom Zentrum wegzubewegen, indem angegeben wird, wie weit jeder Teil vom Zentrum entfernt sein soll (standardmäßig 0)</p> |\n",
    "  |  <p class=\"text-center\">`colors`</p> | <p class=\"text-center\">Sequenz der für die Sektoren zu verwendenden Farben</p> |\n",
    "  |  <p class=\"text-center\">`labeldistance`</p> | <p class=\"text-center\">der Abstand der Beschriftungen zum Zentrum (> 1 um außerhalb des Kreises zu sein)</p> |\n",
    "  |  <p class=\"text-center\">`autopct`</p> | <p class=\"text-center\">eine Funktion (**lambda**), die den berechneten Prozentsatz für einen Sektor nimmt und zurückgibt, was für diesen Prozentsatz angezeigt werden soll</p> |\n",
    "  |  <p class=\"text-center\">`pctdistance`</p> | <p class=\"text-center\">der Abstand zum Zentrum, in dem der vorherige Prozentsatz angezeigt werden soll (1 = auf dem Kreis)</p> |\n",
    "  |  <p class=\"text-center\">`shadow = True`</p> | <p class=\"text-center\">gibt an, dass ein Schatten angezeigt werden soll</p> |\n",
    "\n",
    "> (e) Erstelle eine Figur der Größe `(7, 7)`. <br>\n",
    ">\n",
    "> (f) Stelle ein Kreisdiagramm aus dem Umsatz der ersten **6 Monate** dar, mit den Beschriftungen von \"Jan\" bis \"Juni\" und den Farben: rot, orange, gelb, grün, blau, lila. <br>\n",
    ">\n",
    "> (g) Bewege den vierten Teil um `0.2` vom Zentrum weg. <br>\n",
    ">\n",
    "> (h) Zeige den Prozentsatz jedes Anteils an, auf 2 Nachkommastellen gerundet, gefolgt vom Zeichen '%'. <br>\n",
    ">\n",
    "> (i) Zeige diese Prozentsätze in einem Abstand von `0.7` vom Zentrum und die Beschriftungen in einem Abstand von `1.2` an. <br>\n",
    ">\n",
    "> (j) Füge Schatten zum Kreisdiagramm hinzu. <br>\n",
    ">\n",
    "> (k) Zeige Legenden im Graph an."
   ]
  },
  {
   "cell_type": "code",
   "execution_count": 5,
   "id": "5461f80a-4ece-453d-9198-d2f7d313b4f0",
   "metadata": {},
   "outputs": [],
   "source": [
    "# Deine Lösung:\n",
    "\n",
    "\n",
    "\n"
   ]
  },
  {
   "cell_type": "markdown",
   "id": "0dec81b5-884c-428d-8253-c0ee921b7a03",
   "metadata": {
    "jp-MarkdownHeadingCollapsed": true
   },
   "source": [
    "#### Lösung:"
   ]
  },
  {
   "cell_type": "code",
   "execution_count": null,
   "id": "1a0bd4d9-8996-46ce-b26c-4282abac327d",
   "metadata": {},
   "outputs": [],
   "source": [
    "plt.figure(figsize=(7, 7))\n",
    "\n",
    "plt.pie(x=df.head(6).Umsatz, labels=['Jan', 'Feb', 'März', 'April', 'Mai', 'Juni'],\n",
    "        colors=['rot', 'orange', 'gelb', 'grün', 'blau', 'lila'],\n",
    "        explode=[0, 0, 0, 0.2, 0, 0],\n",
    "        autopct=lambda x: str(round(x, 2)) + '%',\n",
    "        pctdistance=0.7, labeldistance=1.2,\n",
    "        shadow=True)\n",
    "plt.legend()"
   ]
  },
  {
   "cell_type": "markdown",
   "id": "a2b5359b-08bc-49e9-b981-4daa745031ab",
   "metadata": {},
   "source": [
    "## 3. Subplots\n",
    "\n",
    "Es kann nützlich sein, mehrere Grafiken in einer einzigen Abbildung zu visualisieren, insbesondere um Ergebnisse zu vergleichen oder verschiedene Variablen in Beziehung zueinander darzustellen. <br>\n",
    "\n",
    "<img src=\"../imgs/subplot_111.png\" style=\"height:350px\">\n",
    "\n",
    "In derselben Matplotlib-Abbildung können mehrere Grafiken in einem Raster angezeigt werden, dank der Funktion **`subplot`**, die automatisch eine Abbildung erstellt und sie beliebig unterteilt. <br>\n",
    "\n",
    "Die Funktion **`subplot`** nimmt als Argumente: die Anzahl der Zeilen der Abbildung (*numrows*), die Anzahl der Spalten (*numcols*) und die Nummer der Grafik, auf der du dich positionieren möchtest (zwischen 1 und *numrows* x *numcols*). <br>\n",
    "\n",
    "Kommas sind optional, wenn $numrows \\times numcols < 10$. So ist `subplot(211)` identisch mit `subplot(2, 1, 1)`. <br>\n",
    "\n",
    "<span style=\"color:#09b038; text-decoration : underline\">Beispiel:</span> Der Befehl `plt.subplot(4,3,2)` am Anfang der Zelle erstellt und unterteilt eine Abbildung in 4 x 3 Grafikplätze (4 Zeilen und 3 Spalten) und wählt den 2. Platz für die folgenden Grafikanweisungen. Um eine Grafik im nächsten Platz anzuzeigen, schreibe einfach `plt.subplot(4,3,3)` gefolgt von den gewünschten **plt** Funktionen. <br>\n",
    "\n",
    "<div class=\"alert alert-success\">\n",
    "<i class=\"fa fa-question-circle\"></i> &emsp; \n",
    "Die Nummern der Grafiken werden zeilenweise gezählt. Die Grafik in der zweiten Zeile und dritten Spalte is beispielsweiße Grafik Nr. 6.\n",
    "</div>\n",
    "\n",
    "<div class=\"alert alert-success\">\n",
    "<i class=\"fa fa-question-circle\"></i> &emsp; \n",
    "Bei Verwendung einer <b>pyplot</b> Funktion wird automatisch eine Abbildung im Standardformat erstellt. <br>\n",
    "Es ist möglich, eine Abbildung mit den Dimensionen <b>(h,l)</b> mit dem Befehl <b>plt.figure(figsize=(h,l))</b> zu erstellen.\n",
    "</div>\n",
    "\n",
    "#### 5.1 Aufgaben:\n",
    "> (a) Lies die Datei `sales_data.csv` ein. <br>\n",
    ">\n",
    "> (b) Stelle in derselben Abbildung der Größe (10,10) die folgenden vier Grafiken dar: <br>\n",
    "> * Ein *Balkendiagramm* der Verkaufszahlen von Produkt 1.\n",
    "> * Ein Streudiagramm der Verkaufszahlen von Produkt 2 im Vergleich zu Produkt 1.\n",
    "> * Ein Liniendiagramm der Produktretouren.\n",
    "> * Ein Histogramm des monatlichen Umsatzes.\n",
    ">\n",
    "> *Hinweis: Du kannst für jede Grafik die Formen und Farben deiner Wahl verwenden.*"
   ]
  },
  {
   "cell_type": "code",
   "execution_count": 6,
   "id": "cb156091-fcd6-46d7-aac4-40847d1fbe6c",
   "metadata": {},
   "outputs": [],
   "source": [
    "# Deine Lösung:\n",
    "\n",
    "\n",
    "\n"
   ]
  },
  {
   "cell_type": "markdown",
   "id": "2a63c3ec-df00-4271-91c6-0961440ab757",
   "metadata": {
    "jp-MarkdownHeadingCollapsed": true
   },
   "source": [
    "#### Lösung:"
   ]
  },
  {
   "cell_type": "code",
   "execution_count": null,
   "id": "6adb57a1-3228-4e53-89ad-3ed38fdd62f9",
   "metadata": {},
   "outputs": [],
   "source": [
    "df = pd.read_csv('sales_data.csv')\n",
    "\n",
    "fig = plt.figure(figsize=(10,10))\n",
    "\n",
    "plt.subplot(221)\n",
    "plt.bar(range(len(df)), df.Produkt1, label='Produkt1')\n",
    "\n",
    "plt.subplot(222)\n",
    "plt.scatter(df.Produkt1, df.Produkt2, c='m', label=\"Produkt2\")\n",
    "\n",
    "plt.subplot(223)\n",
    "plt.plot(df.Retouren, 'r-*', label=\"Retouren\")\n",
    "\n",
    "plt.subplot(224)\n",
    "plt.hist(df.Umsatz, color='grün', rwidth=0.8, label=\"Umsatz\")"
   ]
  },
  {
   "cell_type": "markdown",
   "id": "df4f69e4-94fe-4779-ad6d-6376e17b6973",
   "metadata": {},
   "source": [
    "#### \n",
    "Die grafischen Methoden von Pandas DataFrames erlauben es nicht direkt, mehrere verschiedene Grafiken innerhalb derselben Abbildung anzuzeigen. <br>\n",
    "Es ist jedoch nützlich zu wissen, dass einige Methoden wie `plot` den Parameter `subplots` enthalten, der, wenn er auf `True` gesetzt wird, die Abbildung in so viele Grafiken unterteilt wie Variablen vorhanden sind. Der Parameter `layout` ermöglicht es dir, das Layout der Plätze zu wählen. <br>\n",
    "\n",
    "Hier ist ein Beispiel für die Erstellung von Grafiken in derselben Abbildung mit Pandas: <br>\n",
    "\n",
    "```python\n",
    "df.plot(y=['Produkt1', 'Produkt2', 'Retouren', 'Umsatz'], subplots=True, layout=(2,2),\n",
    "        style=['b--', 'm:p', 'g-.', 'c-d'], figsize=(7,7))\n",
    "```\n",
    "\n",
    "Mit **`Matplotlib`** ist es auch möglich, eine Grafik innerhalb einer anderen einzufügen, dank der Funktion **`axes`**. <br>\n",
    "\n",
    "Du musst ihr nur als Argument eine Liste mit den Positionen `x` und `y` des Punktes unten links der einzufügenden Grafik übergeben (Werte zwischen `0` und `1`, unabhängig von den gewählten Achsen), sowie deren Dimensionen (Breite und Höhe, zwischen `0` und `1`). <br>\n",
    "\n",
    "Für mehr Sichtbarkeit wird empfohlen, dieser Achse eine andere Hintergrundfarbe zu geben, indem man das Argument `facecolor` hinzufügt. <br>\n",
    "Zum Beispiel erstellt `plt.axes([.5, 0.6, .2, .2], facecolor='grau')` eine Grafik mit grauem Hintergrund, deren unterer linker Punkt auf der x-Achse in der Mitte der aktuellen Grafik, auf der y-Achse bei 60% ihrer Höhe liegt und deren Breite und Höhe 20% der aktuellen Grafik betragen. <br>\n",
    "\n",
    "<div class=\"alert alert-success\">\n",
    "<i class=\"fa fa-question-circle\"></i> &emsp; \n",
    "Aus ästhetischen Gründen ist es vorzuziehen, die Graduierungen von den Achsen der in andere eingefügten Grafiken zu entfernen. \n",
    "Die Befehle <b>plt.xticks([ ])</b> und <b>plt.yticks([ ])</b> reichen aus, um die x- bzw. y-Achse zu löschen.\n",
    "</div>\n",
    "\n",
    "> (c) Erstelle eine Abbildung der Größe (7,7), die den *Boxplot* des monatlichen Umsatzes ('Umsatz') enthält. <br>\n",
    ">\n",
    "> Wir versuchen nun, eine zweite Grafik innerhalb dieser ersten einzufügen: <br>\n",
    ">\n",
    "> (d) Erstelle eine zweite Grafik an der Position (0.65, 0.65) und Größe (0.2, 0.15) mit der Hintergrundfarbe `#ffe5c1`. <br>\n",
    ">\n",
    "> (e) Stelle darin das Histogramm derselben Variable mit der Farbe `#FFC575` dar. <br>\n",
    ">\n",
    "> (f) Lösche die Achsen und gib der x-Achse die Beschriftung: \"Verteilung\"."
   ]
  },
  {
   "cell_type": "code",
   "execution_count": 7,
   "id": "f943e204-876a-448f-998c-1e84b0f014ee",
   "metadata": {},
   "outputs": [],
   "source": [
    "# Deine Lösung:\n",
    "\n",
    "\n",
    "\n"
   ]
  },
  {
   "cell_type": "markdown",
   "id": "9ec52748-dc2d-4a08-86d1-9e348a6c8877",
   "metadata": {
    "jp-MarkdownHeadingCollapsed": true
   },
   "source": [
    "#### Lösung:"
   ]
  },
  {
   "cell_type": "code",
   "execution_count": null,
   "id": "bd41c02c-c0ba-4426-add4-1b7a746cba15",
   "metadata": {},
   "outputs": [],
   "source": [
    "plt.figure(figsize=(7,7))\n",
    "plt.boxplot(df.Umsatz)\n",
    "plt.title('Boxplot')\n",
    "plt.axes([0.65, 0.65, 0.2, 0.15], facecolor='#ffe5c1')\n",
    "plt.hist(df.Umsatz, color='#FFC575')\n",
    "plt.xlabel('Verteilung')\n",
    "plt.xticks([])\n",
    "plt.yticks([])"
   ]
  }
 ],
 "metadata": {
  "kernelspec": {
   "display_name": "Python 3 (ipykernel)",
   "language": "python",
   "name": "python3"
  },
  "language_info": {
   "codemirror_mode": {
    "name": "ipython",
    "version": 3
   },
   "file_extension": ".py",
   "mimetype": "text/x-python",
   "name": "python",
   "nbconvert_exporter": "python",
   "pygments_lexer": "ipython3",
   "version": "3.10.15"
  }
 },
 "nbformat": 4,
 "nbformat_minor": 5
}
